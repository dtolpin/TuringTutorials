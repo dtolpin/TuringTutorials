{
 "cells": [
  {
   "cell_type": "markdown",
   "metadata": {},
   "source": [
    "# Bayesian Hidden Markov Models\n",
    "This tutorial illustrates training Bayesian [Hidden Markov Models](https://en.wikipedia.org/wiki/Hidden_Markov_model) (HMM) using Turing. The main goals are learning the transition matrix, emission parameter, and hidden states. For a more rigorous academic overview on Hidden Markov Models, see [An introduction to Hidden Markov Models and Bayesian Networks](http://mlg.eng.cam.ac.uk/zoubin/papers/ijprai.pdf) (Ghahramani, 2001).\n",
    "\n",
    "Let's load the libraries we'll need. We also set a random seed (for reproducibility) and the automatic differentiation backend to forward mode (more [here](http://turing.ml/docs/autodiff/) on why this is useful)."
   ]
  },
  {
   "cell_type": "code",
   "execution_count": 56,
   "metadata": {},
   "outputs": [
    {
     "name": "stderr",
     "output_type": "stream",
     "text": [
      "┌ Info: [Turing]: progress logging is disabled globally\n",
      "└ @ Turing /home/dvd/.julia/packages/Turing/Gntg0/src/Turing.jl:30\n",
      "┌ Info: [AdvancedVI]: global PROGRESS is set as false\n",
      "└ @ AdvancedVI /home/dvd/.julia/packages/AdvancedVI/J4yH6/src/AdvancedVI.jl:15\n"
     ]
    }
   ],
   "source": [
    "# Load libraries.\n",
    "using Turing, Plots, Random\n",
    "\n",
    "# Turn off progress monitor.\n",
    "Turing.setprogress!(false);\n",
    "\n",
    "# Set a random seed and use the forward_diff AD mode.\n",
    "Random.seed!(1234);"
   ]
  },
  {
   "cell_type": "markdown",
   "metadata": {},
   "source": [
    "## Simple State Detection\n",
    "\n",
    "In this example, we'll use something where the states and emission parameters are straightforward."
   ]
  },
  {
   "cell_type": "code",
   "execution_count": 57,
   "metadata": {},
   "outputs": [
    {
     "data": {
      "image/svg+xml": [
       "<?xml version=\"1.0\" encoding=\"utf-8\"?>\n",
       "<svg xmlns=\"http://www.w3.org/2000/svg\" xmlns:xlink=\"http://www.w3.org/1999/xlink\" width=\"500\" height=\"250\" viewBox=\"0 0 2000 1000\">\n",
       "<defs>\n",
       "  <clipPath id=\"clip160\">\n",
       "    <rect x=\"0\" y=\"0\" width=\"2000\" height=\"1000\"/>\n",
       "  </clipPath>\n",
       "</defs>\n",
       "<path clip-path=\"url(#clip160)\" d=\"\n",
       "M0 1000 L2000 1000 L2000 0 L0 0  Z\n",
       "  \" fill=\"#ffffff\" fill-rule=\"evenodd\" fill-opacity=\"1\"/>\n",
       "<defs>\n",
       "  <clipPath id=\"clip161\">\n",
       "    <rect x=\"400\" y=\"0\" width=\"1401\" height=\"1000\"/>\n",
       "  </clipPath>\n",
       "</defs>\n",
       "<path clip-path=\"url(#clip160)\" d=\"\n",
       "M143.478 901.088 L1952.76 901.088 L1952.76 47.2441 L143.478 47.2441  Z\n",
       "  \" fill=\"#ffffff\" fill-rule=\"evenodd\" fill-opacity=\"1\"/>\n",
       "<defs>\n",
       "  <clipPath id=\"clip162\">\n",
       "    <rect x=\"143\" y=\"47\" width=\"1810\" height=\"855\"/>\n",
       "  </clipPath>\n",
       "</defs>\n",
       "<polyline clip-path=\"url(#clip162)\" style=\"stroke:#000000; stroke-width:2; stroke-opacity:0.1; fill:none\" points=\"\n",
       "  143.478,901.088 143.478,47.2441 \n",
       "  \"/>\n",
       "<polyline clip-path=\"url(#clip162)\" style=\"stroke:#000000; stroke-width:2; stroke-opacity:0.1; fill:none\" points=\"\n",
       "  746.571,901.088 746.571,47.2441 \n",
       "  \"/>\n",
       "<polyline clip-path=\"url(#clip162)\" style=\"stroke:#000000; stroke-width:2; stroke-opacity:0.1; fill:none\" points=\"\n",
       "  1349.66,901.088 1349.66,47.2441 \n",
       "  \"/>\n",
       "<polyline clip-path=\"url(#clip162)\" style=\"stroke:#000000; stroke-width:2; stroke-opacity:0.1; fill:none\" points=\"\n",
       "  1952.76,901.088 1952.76,47.2441 \n",
       "  \"/>\n",
       "<polyline clip-path=\"url(#clip160)\" style=\"stroke:#000000; stroke-width:4; stroke-opacity:1; fill:none\" points=\"\n",
       "  143.478,901.088 1952.76,901.088 \n",
       "  \"/>\n",
       "<polyline clip-path=\"url(#clip160)\" style=\"stroke:#000000; stroke-width:4; stroke-opacity:1; fill:none\" points=\"\n",
       "  143.478,901.088 143.478,890.842 \n",
       "  \"/>\n",
       "<polyline clip-path=\"url(#clip160)\" style=\"stroke:#000000; stroke-width:4; stroke-opacity:1; fill:none\" points=\"\n",
       "  746.571,901.088 746.571,890.842 \n",
       "  \"/>\n",
       "<polyline clip-path=\"url(#clip160)\" style=\"stroke:#000000; stroke-width:4; stroke-opacity:1; fill:none\" points=\"\n",
       "  1349.66,901.088 1349.66,890.842 \n",
       "  \"/>\n",
       "<polyline clip-path=\"url(#clip160)\" style=\"stroke:#000000; stroke-width:4; stroke-opacity:1; fill:none\" points=\"\n",
       "  1952.76,901.088 1952.76,890.842 \n",
       "  \"/>\n",
       "<path clip-path=\"url(#clip160)\" d=\"M 0 0 M143.478 927.079 Q139.867 927.079 138.038 930.643 Q136.233 934.185 136.233 941.315 Q136.233 948.421 138.038 951.986 Q139.867 955.527 143.478 955.527 Q147.112 955.527 148.918 951.986 Q150.746 948.421 150.746 941.315 Q150.746 934.185 148.918 930.643 Q147.112 927.079 143.478 927.079 M143.478 923.375 Q149.288 923.375 152.344 927.981 Q155.422 932.565 155.422 941.315 Q155.422 950.041 152.344 954.648 Q149.288 959.231 143.478 959.231 Q137.668 959.231 134.589 954.648 Q131.534 950.041 131.534 941.315 Q131.534 932.565 134.589 927.981 Q137.668 923.375 143.478 923.375 Z\" fill=\"#000000\" fill-rule=\"evenodd\" fill-opacity=\"1\" /><path clip-path=\"url(#clip160)\" d=\"M 0 0 M736.848 924 L755.205 924 L755.205 927.935 L741.131 927.935 L741.131 936.407 Q742.149 936.06 743.168 935.898 Q744.186 935.713 745.205 935.713 Q750.992 935.713 754.371 938.884 Q757.751 942.055 757.751 947.472 Q757.751 953.051 754.279 956.152 Q750.807 959.231 744.487 959.231 Q742.311 959.231 740.043 958.861 Q737.797 958.49 735.39 957.75 L735.39 953.051 Q737.473 954.185 739.696 954.74 Q741.918 955.296 744.395 955.296 Q748.399 955.296 750.737 953.19 Q753.075 951.083 753.075 947.472 Q753.075 943.861 750.737 941.754 Q748.399 939.648 744.395 939.648 Q742.52 939.648 740.645 940.065 Q738.793 940.481 736.848 941.361 L736.848 924 Z\" fill=\"#000000\" fill-rule=\"evenodd\" fill-opacity=\"1\" /><path clip-path=\"url(#clip160)\" d=\"M 0 0 M1324.35 954.625 L1331.99 954.625 L1331.99 928.259 L1323.68 929.926 L1323.68 925.667 L1331.94 924 L1336.62 924 L1336.62 954.625 L1344.26 954.625 L1344.26 958.56 L1324.35 958.56 L1324.35 954.625 Z\" fill=\"#000000\" fill-rule=\"evenodd\" fill-opacity=\"1\" /><path clip-path=\"url(#clip160)\" d=\"M 0 0 M1363.7 927.079 Q1360.09 927.079 1358.26 930.643 Q1356.46 934.185 1356.46 941.315 Q1356.46 948.421 1358.26 951.986 Q1360.09 955.527 1363.7 955.527 Q1367.34 955.527 1369.14 951.986 Q1370.97 948.421 1370.97 941.315 Q1370.97 934.185 1369.14 930.643 Q1367.34 927.079 1363.7 927.079 M1363.7 923.375 Q1369.51 923.375 1372.57 927.981 Q1375.65 932.565 1375.65 941.315 Q1375.65 950.041 1372.57 954.648 Q1369.51 959.231 1363.7 959.231 Q1357.89 959.231 1354.81 954.648 Q1351.76 950.041 1351.76 941.315 Q1351.76 932.565 1354.81 927.981 Q1357.89 923.375 1363.7 923.375 Z\" fill=\"#000000\" fill-rule=\"evenodd\" fill-opacity=\"1\" /><path clip-path=\"url(#clip160)\" d=\"M 0 0 M1927.94 954.625 L1935.58 954.625 L1935.58 928.259 L1927.27 929.926 L1927.27 925.667 L1935.53 924 L1940.21 924 L1940.21 954.625 L1947.85 954.625 L1947.85 958.56 L1927.94 958.56 L1927.94 954.625 Z\" fill=\"#000000\" fill-rule=\"evenodd\" fill-opacity=\"1\" /><path clip-path=\"url(#clip160)\" d=\"M 0 0 M1957.34 924 L1975.7 924 L1975.7 927.935 L1961.62 927.935 L1961.62 936.407 Q1962.64 936.06 1963.66 935.898 Q1964.68 935.713 1965.7 935.713 Q1971.48 935.713 1974.86 938.884 Q1978.24 942.055 1978.24 947.472 Q1978.24 953.051 1974.77 956.152 Q1971.3 959.231 1964.98 959.231 Q1962.8 959.231 1960.53 958.861 Q1958.29 958.49 1955.88 957.75 L1955.88 953.051 Q1957.96 954.185 1960.19 954.74 Q1962.41 955.296 1964.89 955.296 Q1968.89 955.296 1971.23 953.19 Q1973.57 951.083 1973.57 947.472 Q1973.57 943.861 1971.23 941.754 Q1968.89 939.648 1964.89 939.648 Q1963.01 939.648 1961.14 940.065 Q1959.28 940.481 1957.34 941.361 L1957.34 924 Z\" fill=\"#000000\" fill-rule=\"evenodd\" fill-opacity=\"1\" /><polyline clip-path=\"url(#clip162)\" style=\"stroke:#000000; stroke-width:2; stroke-opacity:0.1; fill:none\" points=\"\n",
       "  143.478,901.088 1952.76,901.088 \n",
       "  \"/>\n",
       "<polyline clip-path=\"url(#clip162)\" style=\"stroke:#000000; stroke-width:2; stroke-opacity:0.1; fill:none\" points=\"\n",
       "  143.478,758.781 1952.76,758.781 \n",
       "  \"/>\n",
       "<polyline clip-path=\"url(#clip162)\" style=\"stroke:#000000; stroke-width:2; stroke-opacity:0.1; fill:none\" points=\"\n",
       "  143.478,616.473 1952.76,616.473 \n",
       "  \"/>\n",
       "<polyline clip-path=\"url(#clip162)\" style=\"stroke:#000000; stroke-width:2; stroke-opacity:0.1; fill:none\" points=\"\n",
       "  143.478,474.166 1952.76,474.166 \n",
       "  \"/>\n",
       "<polyline clip-path=\"url(#clip162)\" style=\"stroke:#000000; stroke-width:2; stroke-opacity:0.1; fill:none\" points=\"\n",
       "  143.478,331.859 1952.76,331.859 \n",
       "  \"/>\n",
       "<polyline clip-path=\"url(#clip162)\" style=\"stroke:#000000; stroke-width:2; stroke-opacity:0.1; fill:none\" points=\"\n",
       "  143.478,189.551 1952.76,189.551 \n",
       "  \"/>\n",
       "<polyline clip-path=\"url(#clip162)\" style=\"stroke:#000000; stroke-width:2; stroke-opacity:0.1; fill:none\" points=\"\n",
       "  143.478,47.2441 1952.76,47.2441 \n",
       "  \"/>\n",
       "<polyline clip-path=\"url(#clip160)\" style=\"stroke:#000000; stroke-width:4; stroke-opacity:1; fill:none\" points=\"\n",
       "  143.478,901.088 143.478,47.2441 \n",
       "  \"/>\n",
       "<polyline clip-path=\"url(#clip160)\" style=\"stroke:#000000; stroke-width:4; stroke-opacity:1; fill:none\" points=\"\n",
       "  143.478,901.088 165.189,901.088 \n",
       "  \"/>\n",
       "<polyline clip-path=\"url(#clip160)\" style=\"stroke:#000000; stroke-width:4; stroke-opacity:1; fill:none\" points=\"\n",
       "  143.478,758.781 165.189,758.781 \n",
       "  \"/>\n",
       "<polyline clip-path=\"url(#clip160)\" style=\"stroke:#000000; stroke-width:4; stroke-opacity:1; fill:none\" points=\"\n",
       "  143.478,616.473 165.189,616.473 \n",
       "  \"/>\n",
       "<polyline clip-path=\"url(#clip160)\" style=\"stroke:#000000; stroke-width:4; stroke-opacity:1; fill:none\" points=\"\n",
       "  143.478,474.166 165.189,474.166 \n",
       "  \"/>\n",
       "<polyline clip-path=\"url(#clip160)\" style=\"stroke:#000000; stroke-width:4; stroke-opacity:1; fill:none\" points=\"\n",
       "  143.478,331.859 165.189,331.859 \n",
       "  \"/>\n",
       "<polyline clip-path=\"url(#clip160)\" style=\"stroke:#000000; stroke-width:4; stroke-opacity:1; fill:none\" points=\"\n",
       "  143.478,189.551 165.189,189.551 \n",
       "  \"/>\n",
       "<polyline clip-path=\"url(#clip160)\" style=\"stroke:#000000; stroke-width:4; stroke-opacity:1; fill:none\" points=\"\n",
       "  143.478,47.2441 165.189,47.2441 \n",
       "  \"/>\n",
       "<path clip-path=\"url(#clip160)\" d=\"M 0 0 M52.9921 901.539 L82.6679 901.539 L82.6679 905.474 L52.9921 905.474 L52.9921 901.539 Z\" fill=\"#000000\" fill-rule=\"evenodd\" fill-opacity=\"1\" /><path clip-path=\"url(#clip160)\" d=\"M 0 0 M93.5706 914.433 L101.209 914.433 L101.209 888.067 L92.8993 889.734 L92.8993 885.475 L101.163 883.808 L105.839 883.808 L105.839 914.433 L113.478 914.433 L113.478 918.368 L93.5706 918.368 L93.5706 914.433 Z\" fill=\"#000000\" fill-rule=\"evenodd\" fill-opacity=\"1\" /><path clip-path=\"url(#clip160)\" d=\"M 0 0 M101.534 744.579 Q97.9224 744.579 96.0937 748.144 Q94.2882 751.686 94.2882 758.815 Q94.2882 765.922 96.0937 769.487 Q97.9224 773.028 101.534 773.028 Q105.168 773.028 106.973 769.487 Q108.802 765.922 108.802 758.815 Q108.802 751.686 106.973 748.144 Q105.168 744.579 101.534 744.579 M101.534 740.876 Q107.344 740.876 110.399 745.482 Q113.478 750.065 113.478 758.815 Q113.478 767.542 110.399 772.149 Q107.344 776.732 101.534 776.732 Q95.7234 776.732 92.6447 772.149 Q89.5892 767.542 89.5892 758.815 Q89.5892 750.065 92.6447 745.482 Q95.7234 740.876 101.534 740.876 Z\" fill=\"#000000\" fill-rule=\"evenodd\" fill-opacity=\"1\" /><path clip-path=\"url(#clip160)\" d=\"M 0 0 M93.5706 629.818 L101.209 629.818 L101.209 603.453 L92.8993 605.119 L92.8993 600.86 L101.163 599.193 L105.839 599.193 L105.839 629.818 L113.478 629.818 L113.478 633.753 L93.5706 633.753 L93.5706 629.818 Z\" fill=\"#000000\" fill-rule=\"evenodd\" fill-opacity=\"1\" /><path clip-path=\"url(#clip160)\" d=\"M 0 0 M97.1586 487.511 L113.478 487.511 L113.478 491.446 L91.5336 491.446 L91.5336 487.511 Q94.1956 484.756 98.7789 480.127 Q103.385 475.474 104.566 474.131 Q106.811 471.608 107.691 469.872 Q108.594 468.113 108.594 466.423 Q108.594 463.668 106.649 461.932 Q104.728 460.196 101.626 460.196 Q99.4271 460.196 96.9734 460.96 Q94.5428 461.724 91.7651 463.275 L91.7651 458.553 Q94.5891 457.418 97.0428 456.84 Q99.4965 456.261 101.534 456.261 Q106.904 456.261 110.098 458.946 Q113.293 461.631 113.293 466.122 Q113.293 468.252 112.483 470.173 Q111.696 472.071 109.589 474.664 Q109.01 475.335 105.909 478.553 Q102.807 481.747 97.1586 487.511 Z\" fill=\"#000000\" fill-rule=\"evenodd\" fill-opacity=\"1\" /><path clip-path=\"url(#clip160)\" d=\"M 0 0 M106.348 330.505 Q109.705 331.222 111.58 333.491 Q113.478 335.759 113.478 339.092 Q113.478 344.208 109.959 347.009 Q106.441 349.81 99.9595 349.81 Q97.7836 349.81 95.4688 349.37 Q93.1771 348.954 90.7234 348.097 L90.7234 343.583 Q92.6678 344.717 94.9826 345.296 Q97.2974 345.875 99.8206 345.875 Q104.219 345.875 106.51 344.139 Q108.825 342.403 108.825 339.092 Q108.825 336.037 106.672 334.324 Q104.543 332.588 100.723 332.588 L96.6956 332.588 L96.6956 328.745 L100.909 328.745 Q104.358 328.745 106.186 327.38 Q108.015 325.991 108.015 323.398 Q108.015 320.736 106.117 319.324 Q104.242 317.889 100.723 317.889 Q98.8021 317.889 96.603 318.306 Q94.4039 318.722 91.7651 319.602 L91.7651 315.435 Q94.4271 314.694 96.7419 314.324 Q99.0798 313.954 101.14 313.954 Q106.464 313.954 109.566 316.384 Q112.668 318.792 112.668 322.912 Q112.668 325.782 111.024 327.773 Q109.381 329.741 106.348 330.505 Z\" fill=\"#000000\" fill-rule=\"evenodd\" fill-opacity=\"1\" /><path clip-path=\"url(#clip160)\" d=\"M 0 0 M103.895 176.345 L92.0891 194.794 L103.895 194.794 L103.895 176.345 M102.668 172.271 L108.547 172.271 L108.547 194.794 L113.478 194.794 L113.478 198.683 L108.547 198.683 L108.547 206.831 L103.895 206.831 L103.895 198.683 L88.2929 198.683 L88.2929 194.169 L102.668 172.271 Z\" fill=\"#000000\" fill-rule=\"evenodd\" fill-opacity=\"1\" /><path clip-path=\"url(#clip160)\" d=\"M 0 0 M92.5752 29.9641 L110.932 29.9641 L110.932 33.8993 L96.8576 33.8993 L96.8576 42.3714 Q97.8761 42.0242 98.8947 41.8622 Q99.9132 41.677 100.932 41.677 Q106.719 41.677 110.098 44.8483 Q113.478 48.0196 113.478 53.4362 Q113.478 59.0149 110.006 62.1167 Q106.534 65.1954 100.214 65.1954 Q98.0382 65.1954 95.7697 64.825 Q93.5243 64.4547 91.1169 63.7139 L91.1169 59.0149 Q93.2002 60.1491 95.4225 60.7047 Q97.6447 61.2602 100.122 61.2602 Q104.126 61.2602 106.464 59.1538 Q108.802 57.0473 108.802 53.4362 Q108.802 49.8251 106.464 47.7186 Q104.126 45.6122 100.122 45.6122 Q98.2465 45.6122 96.3715 46.0288 Q94.5197 46.4455 92.5752 47.3251 L92.5752 29.9641 Z\" fill=\"#000000\" fill-rule=\"evenodd\" fill-opacity=\"1\" /><polyline clip-path=\"url(#clip162)\" style=\"stroke:#009af9; stroke-width:4; stroke-opacity:1; fill:none\" points=\"\n",
       "  264.096,616.473 384.715,616.473 505.334,616.473 625.952,616.473 746.571,474.166 867.189,474.166 987.808,474.166 1108.43,331.859 1229.04,331.859 1349.66,331.859 \n",
       "  1470.28,474.166 1590.9,474.166 1711.52,474.166 1832.14,616.473 1952.76,616.473 \n",
       "  \"/>\n",
       "<path clip-path=\"url(#clip160)\" d=\"\n",
       "M1638.99 196.666 L1892.45 196.666 L1892.45 75.7056 L1638.99 75.7056  Z\n",
       "  \" fill=\"#ffffff\" fill-rule=\"evenodd\" fill-opacity=\"1\"/>\n",
       "<polyline clip-path=\"url(#clip160)\" style=\"stroke:#000000; stroke-width:4; stroke-opacity:1; fill:none\" points=\"\n",
       "  1638.99,196.666 1892.45,196.666 1892.45,75.7056 1638.99,75.7056 1638.99,196.666 \n",
       "  \"/>\n",
       "<polyline clip-path=\"url(#clip160)\" style=\"stroke:#009af9; stroke-width:4; stroke-opacity:1; fill:none\" points=\"\n",
       "  1659.09,136.186 1779.71,136.186 \n",
       "  \"/>\n",
       "<path clip-path=\"url(#clip160)\" d=\"M 0 0 M1813.65 155.873 Q1811.85 160.503 1810.13 161.915 Q1808.42 163.327 1805.55 163.327 L1802.15 163.327 L1802.15 159.762 L1804.65 159.762 Q1806.41 159.762 1807.38 158.928 Q1808.35 158.095 1809.53 154.993 L1810.3 153.049 L1799.81 127.54 L1804.32 127.54 L1812.43 147.817 L1820.53 127.54 L1825.04 127.54 L1813.65 155.873 Z\" fill=\"#000000\" fill-rule=\"evenodd\" fill-opacity=\"1\" /><path clip-path=\"url(#clip160)\" d=\"M 0 0 M1832.33 149.53 L1839.97 149.53 L1839.97 123.165 L1831.66 124.831 L1831.66 120.572 L1839.93 118.906 L1844.6 118.906 L1844.6 149.53 L1852.24 149.53 L1852.24 153.466 L1832.33 153.466 L1832.33 149.53 Z\" fill=\"#000000\" fill-rule=\"evenodd\" fill-opacity=\"1\" /></svg>\n"
      ]
     },
     "execution_count": 57,
     "metadata": {},
     "output_type": "execute_result"
    }
   ],
   "source": [
    "# Define the emission parameter.\n",
    "y = [ 1.0, 1.0, 1.0, 1.0, 2.0, 2.0, 2.0, 3.0, 3.0, 3.0, 2.0, 2.0, 2.0, 1.0, 1.0 ];\n",
    "N = length(y);  K = 3;\n",
    "\n",
    "# Plot the data we just made.\n",
    "plot(y, xlim = (0,15), ylim = (-1,5), size = (500, 250))"
   ]
  },
  {
   "cell_type": "markdown",
   "metadata": {},
   "source": [
    "We can see that we have three states, one for each height of the plot (1, 2, 3). This height is also our emission parameter, so state one produces a value of one, state two produces a value of two, and so on.\n",
    "\n",
    "Ultimately, we would like to understand three major parameters:\n",
    "\n",
    "1. The transition matrix. This is a matrix that assigns a probability of switching from one state to any other state, including the state that we are already in.\n",
    "2. The emission matrix, which describes a typical value emitted by some state. In the plot above, the emission parameter for state one is simply one.\n",
    "3. The state sequence is our understanding of what state we were actually in when we observed some data. This is very important in more sophisticated HMM models, where the emission value does not equal our state.\n",
    "\n",
    "With this in mind, let's set up our model. We are going to use some of our knowledge as modelers to provide additional information about our system. This takes the form of the prior on our emission parameter.\n",
    "\n",
    "$$\n",
    "m_i \\sim Normal(i, 0.5), \\space m = \\{1,2,3\\}\n",
    "$$\n",
    "\n",
    "Simply put, this says that we expect state one to emit values in a Normally distributed manner, where the mean of each state's emissions is that state's value. The variance of 0.5 helps the model converge more quickly — consider the case where we have a variance of 1 or 2. In this case, the likelihood of observing a 2 when we are in state 1 is actually quite high, as it is within a standard deviation of the true emission value. Applying the prior that we are likely to be tightly centered around the mean prevents our model from being too confused about the state that is generating our observations.\n",
    "\n",
    "The priors on our transition matrix are noninformative, using `T[i] ~ Dirichlet(ones(K)/K)`. The Dirichlet prior used in this way assumes that the state is likely to change to any other state with equal probability. As we'll see, this transition matrix prior will be overwritten as we observe data."
   ]
  },
  {
   "cell_type": "code",
   "execution_count": 58,
   "metadata": {},
   "outputs": [],
   "source": [
    "# Turing model definition.\n",
    "@model BayesHmm(y, K) = begin\n",
    "    # Get observation length.\n",
    "    N = length(y)\n",
    "\n",
    "    # State sequence.\n",
    "    s = tzeros(Int, N)\n",
    "\n",
    "    # Emission matrix.\n",
    "    m = Vector(undef, K)\n",
    "\n",
    "    # Transition matrix.\n",
    "    T = Vector{Vector}(undef, K)\n",
    "\n",
    "    # Assign distributions to each element\n",
    "    # of the transition matrix and the\n",
    "    # emission matrix.\n",
    "    for i = 1:K\n",
    "        T[i] ~ Dirichlet(ones(K)/K)\n",
    "        m[i] ~ Normal(i, 0.5)\n",
    "    end\n",
    "\n",
    "    # Observe each point of the input.\n",
    "    s[1] ~ Categorical(K)\n",
    "    y[1] ~ Normal(m[s[1]], 0.1)\n",
    "\n",
    "    for i = 2:N\n",
    "        s[i] ~ Categorical(vec(T[s[i-1]]))\n",
    "        y[i] ~ Normal(m[s[i]], 0.1)\n",
    "    end\n",
    "end;"
   ]
  },
  {
   "cell_type": "markdown",
   "metadata": {},
   "source": [
    "We will use a combination of two samplers ([HMC](http://turing.ml/docs/library/#Turing.HMC) and [Particle Gibbs](http://turing.ml/docs/library/#Turing.PG)) by passing them to the [Gibbs](http://turing.ml/docs/library/#Turing.Gibbs) sampler. The Gibbs sampler allows for compositional inference, where we can utilize different samplers on different parameters.\n",
    "\n",
    "In this case, we use HMC for `m` and `T`, representing the emission and transition matrices respectively. We use the Particle Gibbs sampler for `s`, the state sequence. You may wonder why it is that we are not assigning `s` to the HMC sampler, and why it is that we need compositional Gibbs sampling at all.\n",
    "\n",
    "The parameter `s` is not a continuous variable. It is a vector of **integers**, and thus Hamiltonian methods like HMC and [NUTS](http://turing.ml/docs/library/#-turingnuts--type) won't work correctly. Gibbs allows us to apply the right tools to the best effect. If you are a particularly advanced user interested in higher performance, you may benefit from setting up your Gibbs sampler to use [different automatic differentiation](http://turing.ml/docs/autodiff/#compositional-sampling-with-differing-ad-modes) backends for each parameter space.\n",
    "\n",
    "Time to run our sampler."
   ]
  },
  {
   "cell_type": "code",
   "execution_count": null,
   "metadata": {},
   "outputs": [],
   "source": [
    "g = Gibbs(HMC(0.001, 7, :m, :T), PG(20, :s))\n",
    "c = sample(BayesHmm(y, K), g, 100);"
   ]
  },
  {
   "cell_type": "markdown",
   "metadata": {},
   "source": [
    "Let's see how well our chain performed. Ordinarily, using the `describe` function from [MCMCChain](https://github.com/TuringLang/MCMCChain.jl) would be a good first step, but we have generated a lot of parameters here (`s[1]`, `s[2]`, `m[1]`, and so on). It's a bit easier to show how our model performed graphically.\n",
    "\n",
    "The code below generates an animation showing the graph of the data above, and the data our model generates in each sample."
   ]
  },
  {
   "cell_type": "code",
   "execution_count": null,
   "metadata": {},
   "outputs": [],
   "source": [
    "# Import StatsPlots for animating purposes.\n",
    "using StatsPlots\n",
    "\n",
    "# Extract our m and s parameters from the chain.\n",
    "m_set = zeros(length(c), K)\n",
    "for i in 1:K\n",
    "    m_set[:, i] = c[Symbol(\"m[$i]\")].data\n",
    "end\n",
    "s_set = zeros(length(c), N)\n",
    "for i in 1:N\n",
    "    s_set[:, i] = c[Symbol(\"s[$i]\")].data\n",
    "end\n",
    "\n",
    "# Iterate through the MCMC samples.\n",
    "Ns = 1:length(c)\n",
    "\n",
    "# Make an animation.\n",
    "animation = @gif for i in Ns\n",
    "    m = m_set[i, :]; \n",
    "    s = Int.(s_set[i,:]);\n",
    "    emissions = collect(skipmissing(m[s]))\n",
    "    \n",
    "    p = plot(y, c = :red,\n",
    "        size = (500, 250),\n",
    "        xlabel = \"Time\",\n",
    "        ylabel = \"State\",\n",
    "        legend = :topright, label = \"True data\",\n",
    "        xlim = (0,15),\n",
    "        ylim = (-1,5));\n",
    "    plot!(emissions, color = :blue, label = \"Sample $N\")\n",
    "end every 10;\n",
    "animation"
   ]
  },
  {
   "cell_type": "markdown",
   "metadata": {},
   "source": [
    "Looks like our model did a pretty good job, but we should also check to make sure our chain converges. A quick check is to examine whether the diagonal (representing the probability of remaining in the current state) of the transition matrix appears to be stationary. The code below extracts the diagonal and shows a traceplot of each persistence probability."
   ]
  },
  {
   "cell_type": "code",
   "execution_count": null,
   "metadata": {},
   "outputs": [],
   "source": [
    "# Index the chain with the persistence probabilities.\n",
    "subchain = c[:,[\"T[$i][$i]\" for i in 1:K],:]\n",
    "\n",
    "# Plot the chain.\n",
    "plot(subchain, \n",
    "    colordim = :parameter, \n",
    "    seriestype=:traceplot,\n",
    "    title = \"Persistence Probability\",\n",
    "    legend=:right\n",
    "    )"
   ]
  },
  {
   "cell_type": "markdown",
   "metadata": {},
   "source": [
    "A cursory examination of the traceplot above indicates that at least `T[3,3]` and possibly `T[2,2]` have converged to something resembling stationary. `T[1,1]`, on the other hand, has a slight \"wobble\", and seems less consistent than the others. We can use the diagnostic functions provided by [MCMCChain](https://github.com/TuringLang/MCMCChain.jl) to engage in some formal tests, like the Heidelberg and Welch diagnostic:"
   ]
  },
  {
   "cell_type": "code",
   "execution_count": null,
   "metadata": {},
   "outputs": [],
   "source": [
    "for i in 1:3\n",
    "    println(heideldiag(vec(c[Symbol(\"T[$i][$i]\")].data)))\n",
    "end"
   ]
  },
  {
   "cell_type": "markdown",
   "metadata": {},
   "source": [
    "The p-values on the test suggest that we cannot reject the hypothesis that the observed sequence comes from a stationary distribution, so we can be somewhat more confident that our transition matrix has converged to something reasonable."
   ]
  }
 ],
 "metadata": {
  "kernelspec": {
   "display_name": "julia 1.6.0",
   "language": "julia",
   "name": "julia-1.6"
  },
  "language_info": {
   "file_extension": ".jl",
   "mimetype": "application/julia",
   "name": "julia",
   "version": "1.6.0"
  }
 },
 "nbformat": 4,
 "nbformat_minor": 4
}
