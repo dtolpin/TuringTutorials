{
 "cells": [
  {
   "cell_type": "markdown",
   "metadata": {},
   "source": [
    "# Unsupervised Learning using Bayesian Mixture Models"
   ]
  },
  {
   "cell_type": "markdown",
   "metadata": {},
   "source": [
    "The following tutorial illustrates the use *Turing* for clustering data using a Bayesian mixture model. The aim of this task is to infer a latent grouping (hidden structure) from unlabelled data.\n",
    "\n",
    "More specifically, we are interested in discovering the grouping illustrated in figure below. This example consists of 2-D data points, i.e. $\\boldsymbol{x} = \\{x_i\\}_{i=1}^N \\,, x_i \\in \\mathcal{R}^2$, which are distributed according to Gaussian distributions. For simplicity, we use isotropic Gaussian distributions but this assumption can easily be relaxed by introducing additional parameters. "
   ]
  },
  {
   "cell_type": "code",
   "execution_count": 1,
   "metadata": {},
   "outputs": [
    {
     "data": {
      "image/svg+xml": [
       "<?xml version=\"1.0\" encoding=\"utf-8\"?>\n",
       "<svg xmlns=\"http://www.w3.org/2000/svg\" xmlns:xlink=\"http://www.w3.org/1999/xlink\" width=\"600\" height=\"400\" viewBox=\"0 0 2400 1600\">\n",
       "<defs>\n",
       "  <clipPath id=\"clip120\">\n",
       "    <rect x=\"0\" y=\"0\" width=\"2400\" height=\"1600\"/>\n",
       "  </clipPath>\n",
       "</defs>\n",
       "<path clip-path=\"url(#clip120)\" d=\"\n",
       "M0 1600 L2400 1600 L2400 0 L0 0  Z\n",
       "  \" fill=\"#ffffff\" fill-rule=\"evenodd\" fill-opacity=\"1\"/>\n",
       "<defs>\n",
       "  <clipPath id=\"clip121\">\n",
       "    <rect x=\"480\" y=\"0\" width=\"1681\" height=\"1600\"/>\n",
       "  </clipPath>\n",
       "</defs>\n",
       "<path clip-path=\"url(#clip120)\" d=\"\n",
       "M144.168 1486.45 L2352.76 1486.45 L2352.76 123.472 L144.168 123.472  Z\n",
       "  \" fill=\"#ffffff\" fill-rule=\"evenodd\" fill-opacity=\"1\"/>\n",
       "<defs>\n",
       "  <clipPath id=\"clip122\">\n",
       "    <rect x=\"144\" y=\"123\" width=\"2210\" height=\"1364\"/>\n",
       "  </clipPath>\n",
       "</defs>\n",
       "<polyline clip-path=\"url(#clip122)\" style=\"stroke:#000000; stroke-width:2; stroke-opacity:0.1; fill:none\" points=\"\n",
       "  506.248,1486.45 506.248,123.472 \n",
       "  \"/>\n",
       "<polyline clip-path=\"url(#clip122)\" style=\"stroke:#000000; stroke-width:2; stroke-opacity:0.1; fill:none\" points=\"\n",
       "  1089.17,1486.45 1089.17,123.472 \n",
       "  \"/>\n",
       "<polyline clip-path=\"url(#clip122)\" style=\"stroke:#000000; stroke-width:2; stroke-opacity:0.1; fill:none\" points=\"\n",
       "  1672.1,1486.45 1672.1,123.472 \n",
       "  \"/>\n",
       "<polyline clip-path=\"url(#clip122)\" style=\"stroke:#000000; stroke-width:2; stroke-opacity:0.1; fill:none\" points=\"\n",
       "  2255.03,1486.45 2255.03,123.472 \n",
       "  \"/>\n",
       "<polyline clip-path=\"url(#clip120)\" style=\"stroke:#000000; stroke-width:4; stroke-opacity:1; fill:none\" points=\"\n",
       "  144.168,1486.45 2352.76,1486.45 \n",
       "  \"/>\n",
       "<polyline clip-path=\"url(#clip120)\" style=\"stroke:#000000; stroke-width:4; stroke-opacity:1; fill:none\" points=\"\n",
       "  506.248,1486.45 506.248,1470.09 \n",
       "  \"/>\n",
       "<polyline clip-path=\"url(#clip120)\" style=\"stroke:#000000; stroke-width:4; stroke-opacity:1; fill:none\" points=\"\n",
       "  1089.17,1486.45 1089.17,1470.09 \n",
       "  \"/>\n",
       "<polyline clip-path=\"url(#clip120)\" style=\"stroke:#000000; stroke-width:4; stroke-opacity:1; fill:none\" points=\"\n",
       "  1672.1,1486.45 1672.1,1470.09 \n",
       "  \"/>\n",
       "<polyline clip-path=\"url(#clip120)\" style=\"stroke:#000000; stroke-width:4; stroke-opacity:1; fill:none\" points=\"\n",
       "  2255.03,1486.45 2255.03,1470.09 \n",
       "  \"/>\n",
       "<path clip-path=\"url(#clip120)\" d=\"M 0 0 M477.66 1530.29 L507.336 1530.29 L507.336 1534.23 L477.66 1534.23 L477.66 1530.29 Z\" fill=\"#000000\" fill-rule=\"evenodd\" fill-opacity=\"1\" /><path clip-path=\"url(#clip120)\" d=\"M 0 0 M525.253 1516.63 L513.447 1535.08 L525.253 1535.08 L525.253 1516.63 M524.026 1512.56 L529.906 1512.56 L529.906 1535.08 L534.836 1535.08 L534.836 1538.97 L529.906 1538.97 L529.906 1547.12 L525.253 1547.12 L525.253 1538.97 L509.651 1538.97 L509.651 1534.46 L524.026 1512.56 Z\" fill=\"#000000\" fill-rule=\"evenodd\" fill-opacity=\"1\" /><path clip-path=\"url(#clip120)\" d=\"M 0 0 M1061.63 1530.29 L1091.3 1530.29 L1091.3 1534.23 L1061.63 1534.23 L1061.63 1530.29 Z\" fill=\"#000000\" fill-rule=\"evenodd\" fill-opacity=\"1\" /><path clip-path=\"url(#clip120)\" d=\"M 0 0 M1100.4 1543.18 L1116.72 1543.18 L1116.72 1547.12 L1094.78 1547.12 L1094.78 1543.18 Q1097.44 1540.43 1102.02 1535.8 Q1106.63 1531.15 1107.81 1529.81 Q1110.05 1527.28 1110.93 1525.55 Q1111.84 1523.79 1111.84 1522.1 Q1111.84 1519.34 1109.89 1517.61 Q1107.97 1515.87 1104.87 1515.87 Q1102.67 1515.87 1100.22 1516.63 Q1097.79 1517.4 1095.01 1518.95 L1095.01 1514.23 Q1097.83 1513.09 1100.29 1512.51 Q1102.74 1511.93 1104.78 1511.93 Q1110.15 1511.93 1113.34 1514.62 Q1116.54 1517.31 1116.54 1521.8 Q1116.54 1523.93 1115.72 1525.85 Q1114.94 1527.74 1112.83 1530.34 Q1112.25 1531.01 1109.15 1534.23 Q1106.05 1537.42 1100.4 1543.18 Z\" fill=\"#000000\" fill-rule=\"evenodd\" fill-opacity=\"1\" /><path clip-path=\"url(#clip120)\" d=\"M 0 0 M1672.1 1515.64 Q1668.49 1515.64 1666.66 1519.2 Q1664.85 1522.75 1664.85 1529.87 Q1664.85 1536.98 1666.66 1540.55 Q1668.49 1544.09 1672.1 1544.09 Q1675.73 1544.09 1677.54 1540.55 Q1679.37 1536.98 1679.37 1529.87 Q1679.37 1522.75 1677.54 1519.2 Q1675.73 1515.64 1672.1 1515.64 M1672.1 1511.93 Q1677.91 1511.93 1680.97 1516.54 Q1684.04 1521.12 1684.04 1529.87 Q1684.04 1538.6 1680.97 1543.21 Q1677.91 1547.79 1672.1 1547.79 Q1666.29 1547.79 1663.21 1543.21 Q1660.16 1538.6 1660.16 1529.87 Q1660.16 1521.12 1663.21 1516.54 Q1666.29 1511.93 1672.1 1511.93 Z\" fill=\"#000000\" fill-rule=\"evenodd\" fill-opacity=\"1\" /><path clip-path=\"url(#clip120)\" d=\"M 0 0 M2249.68 1543.18 L2266 1543.18 L2266 1547.12 L2244.05 1547.12 L2244.05 1543.18 Q2246.72 1540.43 2251.3 1535.8 Q2255.91 1531.15 2257.09 1529.81 Q2259.33 1527.28 2260.21 1525.55 Q2261.11 1523.79 2261.11 1522.1 Q2261.11 1519.34 2259.17 1517.61 Q2257.25 1515.87 2254.15 1515.87 Q2251.95 1515.87 2249.49 1516.63 Q2247.06 1517.4 2244.29 1518.95 L2244.29 1514.23 Q2247.11 1513.09 2249.56 1512.51 Q2252.02 1511.93 2254.05 1511.93 Q2259.42 1511.93 2262.62 1514.62 Q2265.81 1517.31 2265.81 1521.8 Q2265.81 1523.93 2265 1525.85 Q2264.22 1527.74 2262.11 1530.34 Q2261.53 1531.01 2258.43 1534.23 Q2255.33 1537.42 2249.68 1543.18 Z\" fill=\"#000000\" fill-rule=\"evenodd\" fill-opacity=\"1\" /><polyline clip-path=\"url(#clip122)\" style=\"stroke:#000000; stroke-width:2; stroke-opacity:0.1; fill:none\" points=\"\n",
       "  144.168,1444.6 2352.76,1444.6 \n",
       "  \"/>\n",
       "<polyline clip-path=\"url(#clip122)\" style=\"stroke:#000000; stroke-width:2; stroke-opacity:0.1; fill:none\" points=\"\n",
       "  144.168,1112.39 2352.76,1112.39 \n",
       "  \"/>\n",
       "<polyline clip-path=\"url(#clip122)\" style=\"stroke:#000000; stroke-width:2; stroke-opacity:0.1; fill:none\" points=\"\n",
       "  144.168,780.193 2352.76,780.193 \n",
       "  \"/>\n",
       "<polyline clip-path=\"url(#clip122)\" style=\"stroke:#000000; stroke-width:2; stroke-opacity:0.1; fill:none\" points=\"\n",
       "  144.168,447.992 2352.76,447.992 \n",
       "  \"/>\n",
       "<polyline clip-path=\"url(#clip120)\" style=\"stroke:#000000; stroke-width:4; stroke-opacity:1; fill:none\" points=\"\n",
       "  144.168,1486.45 144.168,123.472 \n",
       "  \"/>\n",
       "<polyline clip-path=\"url(#clip120)\" style=\"stroke:#000000; stroke-width:4; stroke-opacity:1; fill:none\" points=\"\n",
       "  144.168,1444.6 170.671,1444.6 \n",
       "  \"/>\n",
       "<polyline clip-path=\"url(#clip120)\" style=\"stroke:#000000; stroke-width:4; stroke-opacity:1; fill:none\" points=\"\n",
       "  144.168,1112.39 170.671,1112.39 \n",
       "  \"/>\n",
       "<polyline clip-path=\"url(#clip120)\" style=\"stroke:#000000; stroke-width:4; stroke-opacity:1; fill:none\" points=\"\n",
       "  144.168,780.193 170.671,780.193 \n",
       "  \"/>\n",
       "<polyline clip-path=\"url(#clip120)\" style=\"stroke:#000000; stroke-width:4; stroke-opacity:1; fill:none\" points=\"\n",
       "  144.168,447.992 170.671,447.992 \n",
       "  \"/>\n",
       "<path clip-path=\"url(#clip120)\" d=\"M 0 0 M51.3162 1445.05 L80.992 1445.05 L80.992 1448.98 L51.3162 1448.98 L51.3162 1445.05 Z\" fill=\"#000000\" fill-rule=\"evenodd\" fill-opacity=\"1\" /><path clip-path=\"url(#clip120)\" d=\"M 0 0 M96.64 1442.73 Q93.4919 1442.73 91.6401 1444.88 Q89.8114 1447.04 89.8114 1450.79 Q89.8114 1454.51 91.6401 1456.69 Q93.4919 1458.84 96.64 1458.84 Q99.7882 1458.84 101.617 1456.69 Q103.469 1454.51 103.469 1450.79 Q103.469 1447.04 101.617 1444.88 Q99.7882 1442.73 96.64 1442.73 M105.922 1428.08 L105.922 1432.34 Q104.163 1431.51 102.358 1431.07 Q100.575 1430.63 98.8159 1430.63 Q94.1863 1430.63 91.7326 1433.75 Q89.3021 1436.88 88.9549 1443.19 Q90.3206 1441.18 92.3808 1440.12 Q94.441 1439.03 96.9178 1439.03 Q102.126 1439.03 105.135 1442.2 Q108.168 1445.35 108.168 1450.79 Q108.168 1456.11 105.02 1459.33 Q101.871 1462.55 96.64 1462.55 Q90.6447 1462.55 87.4734 1457.96 Q84.3021 1453.36 84.3021 1444.63 Q84.3021 1436.44 88.191 1431.57 Q92.0799 1426.69 98.6308 1426.69 Q100.39 1426.69 102.172 1427.04 Q103.978 1427.38 105.922 1428.08 Z\" fill=\"#000000\" fill-rule=\"evenodd\" fill-opacity=\"1\" /><path clip-path=\"url(#clip120)\" d=\"M 0 0 M50.9921 1112.85 L80.6679 1112.85 L80.6679 1116.78 L50.9921 1116.78 L50.9921 1112.85 Z\" fill=\"#000000\" fill-rule=\"evenodd\" fill-opacity=\"1\" /><path clip-path=\"url(#clip120)\" d=\"M 0 0 M98.5845 1099.19 L86.779 1117.64 L98.5845 1117.64 L98.5845 1099.19 M97.3576 1095.11 L103.237 1095.11 L103.237 1117.64 L108.168 1117.64 L108.168 1121.53 L103.237 1121.53 L103.237 1129.67 L98.5845 1129.67 L98.5845 1121.53 L82.9827 1121.53 L82.9827 1117.01 L97.3576 1095.11 Z\" fill=\"#000000\" fill-rule=\"evenodd\" fill-opacity=\"1\" /><path clip-path=\"url(#clip120)\" d=\"M 0 0 M53.0754 780.645 L82.7512 780.645 L82.7512 784.58 L53.0754 784.58 L53.0754 780.645 Z\" fill=\"#000000\" fill-rule=\"evenodd\" fill-opacity=\"1\" /><path clip-path=\"url(#clip120)\" d=\"M 0 0 M91.8484 793.538 L108.168 793.538 L108.168 797.473 L86.2234 797.473 L86.2234 793.538 Q88.8854 790.783 93.4688 786.154 Q98.0752 781.501 99.2558 780.158 Q101.501 777.635 102.381 775.899 Q103.284 774.14 103.284 772.45 Q103.284 769.695 101.339 767.959 Q99.4178 766.223 96.316 766.223 Q94.1169 766.223 91.6632 766.987 Q89.2327 767.751 86.4549 769.302 L86.4549 764.58 Q89.279 763.446 91.7326 762.867 Q94.1863 762.288 96.2234 762.288 Q101.594 762.288 104.788 764.973 Q107.983 767.658 107.983 772.149 Q107.983 774.279 107.172 776.2 Q106.385 778.098 104.279 780.691 Q103.7 781.362 100.598 784.58 Q97.4965 787.774 91.8484 793.538 Z\" fill=\"#000000\" fill-rule=\"evenodd\" fill-opacity=\"1\" /><path clip-path=\"url(#clip120)\" d=\"M 0 0 M96.2234 433.791 Q92.6123 433.791 90.7836 437.355 Q88.978 440.897 88.978 448.027 Q88.978 455.133 90.7836 458.698 Q92.6123 462.24 96.2234 462.24 Q99.8576 462.24 101.663 458.698 Q103.492 455.133 103.492 448.027 Q103.492 440.897 101.663 437.355 Q99.8576 433.791 96.2234 433.791 M96.2234 430.087 Q102.034 430.087 105.089 434.693 Q108.168 439.277 108.168 448.027 Q108.168 456.754 105.089 461.36 Q102.034 465.943 96.2234 465.943 Q90.4132 465.943 87.3345 461.36 Q84.279 456.754 84.279 448.027 Q84.279 439.277 87.3345 434.693 Q90.4132 430.087 96.2234 430.087 Z\" fill=\"#000000\" fill-rule=\"evenodd\" fill-opacity=\"1\" /><path clip-path=\"url(#clip120)\" d=\"M 0 0 M956.108 14.0809 L956.108 22.0612 Q951.45 19.8332 947.318 18.7395 Q943.186 17.6457 939.337 17.6457 Q932.653 17.6457 929.008 20.2383 Q925.402 22.8309 925.402 27.611 Q925.402 31.6214 927.792 33.6873 Q930.223 35.7128 936.947 36.9686 L941.889 37.9813 Q951.044 39.7232 955.379 44.1387 Q959.754 48.5136 959.754 55.8863 Q959.754 64.6767 953.84 69.2137 Q947.966 73.7508 936.583 73.7508 Q932.289 73.7508 927.428 72.7785 Q922.607 71.8063 917.422 69.9024 L917.422 61.4765 Q922.405 64.2716 927.185 65.6895 Q931.965 67.1073 936.583 67.1073 Q943.591 67.1073 947.399 64.3527 Q951.206 61.598 951.206 56.4939 Q951.206 52.0379 948.452 49.5264 Q945.738 47.0148 939.499 45.759 L934.517 44.7868 Q925.362 42.9639 921.27 39.075 Q917.179 35.1862 917.179 28.2591 Q917.179 20.2383 922.81 15.6203 Q928.481 11.0023 938.406 11.0023 Q942.659 11.0023 947.075 11.7719 Q951.49 12.5416 956.108 14.0809 Z\" fill=\"#000000\" fill-rule=\"evenodd\" fill-opacity=\"1\" /><path clip-path=\"url(#clip120)\" d=\"M 0 0 M986.449 76.7889 Q983.29 84.8907 980.292 87.3618 Q977.294 89.8329 972.271 89.8329 L966.316 89.8329 L966.316 83.5945 L970.691 83.5945 Q973.77 83.5945 975.471 82.1361 Q977.173 80.6778 979.239 75.2496 L980.576 71.8468 L962.225 27.2059 L970.124 27.2059 L984.302 62.6918 L998.481 27.2059 L1006.38 27.2059 L986.449 76.7889 Z\" fill=\"#000000\" fill-rule=\"evenodd\" fill-opacity=\"1\" /><path clip-path=\"url(#clip120)\" d=\"M 0 0 M1051.91 45.1919 L1051.91 72.576 L1044.46 72.576 L1044.46 45.4349 Q1044.46 38.994 1041.95 35.7938 Q1039.44 32.5936 1034.41 32.5936 Q1028.38 32.5936 1024.89 36.4419 Q1021.41 40.2903 1021.41 46.9338 L1021.41 72.576 L1013.91 72.576 L1013.91 27.2059 L1021.41 27.2059 L1021.41 34.2544 Q1024.08 30.163 1027.69 28.1376 Q1031.33 26.1121 1036.07 26.1121 Q1043.89 26.1121 1047.9 30.9732 Q1051.91 35.7938 1051.91 45.1919 Z\" fill=\"#000000\" fill-rule=\"evenodd\" fill-opacity=\"1\" /><path clip-path=\"url(#clip120)\" d=\"M 0 0 M1067.1 14.324 L1067.1 27.2059 L1082.46 27.2059 L1082.46 32.9987 L1067.1 32.9987 L1067.1 57.6282 Q1067.1 63.1779 1068.6 64.7578 Q1070.14 66.3376 1074.8 66.3376 L1082.46 66.3376 L1082.46 72.576 L1074.8 72.576 Q1066.17 72.576 1062.89 69.3758 Q1059.61 66.1351 1059.61 57.6282 L1059.61 32.9987 L1054.14 32.9987 L1054.14 27.2059 L1059.61 27.2059 L1059.61 14.324 L1067.1 14.324 Z\" fill=\"#000000\" fill-rule=\"evenodd\" fill-opacity=\"1\" /><path clip-path=\"url(#clip120)\" d=\"M 0 0 M1127.99 45.1919 L1127.99 72.576 L1120.53 72.576 L1120.53 45.4349 Q1120.53 38.994 1118.02 35.7938 Q1115.51 32.5936 1110.49 32.5936 Q1104.45 32.5936 1100.97 36.4419 Q1097.48 40.2903 1097.48 46.9338 L1097.48 72.576 L1089.99 72.576 L1089.99 9.54393 L1097.48 9.54393 L1097.48 34.2544 Q1100.16 30.163 1103.76 28.1376 Q1107.41 26.1121 1112.15 26.1121 Q1119.97 26.1121 1123.98 30.9732 Q1127.99 35.7938 1127.99 45.1919 Z\" fill=\"#000000\" fill-rule=\"evenodd\" fill-opacity=\"1\" /><path clip-path=\"url(#clip120)\" d=\"M 0 0 M1174.61 48.0275 L1174.61 51.6733 L1140.34 51.6733 Q1140.83 59.3701 1144.96 63.421 Q1149.13 67.4314 1156.55 67.4314 Q1160.84 67.4314 1164.85 66.3781 Q1168.9 65.3249 1172.87 63.2184 L1172.87 70.267 Q1168.86 71.9684 1164.65 72.8596 Q1160.44 73.7508 1156.1 73.7508 Q1145.24 73.7508 1138.88 67.4314 Q1132.57 61.1119 1132.57 50.3365 Q1132.57 39.1965 1138.56 32.6746 Q1144.6 26.1121 1154.8 26.1121 Q1163.96 26.1121 1169.27 32.0264 Q1174.61 37.9003 1174.61 48.0275 M1167.16 45.84 Q1167.08 39.7232 1163.72 36.0774 Q1160.4 32.4315 1154.89 32.4315 Q1148.65 32.4315 1144.88 35.9558 Q1141.15 39.4801 1140.59 45.8805 L1167.16 45.84 Z\" fill=\"#000000\" fill-rule=\"evenodd\" fill-opacity=\"1\" /><path clip-path=\"url(#clip120)\" d=\"M 0 0 M1189.8 14.324 L1189.8 27.2059 L1205.16 27.2059 L1205.16 32.9987 L1189.8 32.9987 L1189.8 57.6282 Q1189.8 63.1779 1191.3 64.7578 Q1192.84 66.3376 1197.5 66.3376 L1205.16 66.3376 L1205.16 72.576 L1197.5 72.576 Q1188.87 72.576 1185.59 69.3758 Q1182.31 66.1351 1182.31 57.6282 L1182.31 32.9987 L1176.84 32.9987 L1176.84 27.2059 L1182.31 27.2059 L1182.31 14.324 L1189.8 14.324 Z\" fill=\"#000000\" fill-rule=\"evenodd\" fill-opacity=\"1\" /><path clip-path=\"url(#clip120)\" d=\"M 0 0 M1212.98 27.2059 L1220.43 27.2059 L1220.43 72.576 L1212.98 72.576 L1212.98 27.2059 M1212.98 9.54393 L1220.43 9.54393 L1220.43 18.9825 L1212.98 18.9825 L1212.98 9.54393 Z\" fill=\"#000000\" fill-rule=\"evenodd\" fill-opacity=\"1\" /><path clip-path=\"url(#clip120)\" d=\"M 0 0 M1260.9 28.9478 L1260.9 35.9153 Q1257.74 34.1734 1254.54 33.3227 Q1251.38 32.4315 1248.14 32.4315 Q1240.89 32.4315 1236.88 37.0496 Q1232.87 41.6271 1232.87 49.9314 Q1232.87 58.2358 1236.88 62.8538 Q1240.89 67.4314 1248.14 67.4314 Q1251.38 67.4314 1254.54 66.5807 Q1257.74 65.6895 1260.9 63.9476 L1260.9 70.8341 Q1257.78 72.2924 1254.42 73.0216 Q1251.09 73.7508 1247.33 73.7508 Q1237.08 73.7508 1231.04 67.3098 Q1225.01 60.8689 1225.01 49.9314 Q1225.01 38.832 1231.08 32.472 Q1237.2 26.1121 1247.81 26.1121 Q1251.26 26.1121 1254.54 26.8413 Q1257.82 27.5299 1260.9 28.9478 Z\" fill=\"#000000\" fill-rule=\"evenodd\" fill-opacity=\"1\" /><path clip-path=\"url(#clip120)\" d=\"M 0 0 M1303.59 18.8205 L1303.59 65.8515 L1313.48 65.8515 Q1326 65.8515 1331.79 60.1802 Q1337.62 54.509 1337.62 42.2752 Q1337.62 30.1225 1331.79 24.4918 Q1326 18.8205 1313.48 18.8205 L1303.59 18.8205 M1295.41 12.096 L1312.22 12.096 Q1329.8 12.096 1338.03 19.4281 Q1346.25 26.7198 1346.25 42.2752 Q1346.25 57.9117 1337.99 65.2439 Q1329.72 72.576 1312.22 72.576 L1295.41 72.576 L1295.41 12.096 Z\" fill=\"#000000\" fill-rule=\"evenodd\" fill-opacity=\"1\" /><path clip-path=\"url(#clip120)\" d=\"M 0 0 M1374.69 49.7694 Q1365.65 49.7694 1362.17 51.8354 Q1358.69 53.9013 1358.69 58.8839 Q1358.69 62.8538 1361.28 65.2034 Q1363.91 67.5124 1368.41 67.5124 Q1374.61 67.5124 1378.33 63.1374 Q1382.1 58.7219 1382.1 51.4303 L1382.1 49.7694 L1374.69 49.7694 M1389.55 46.6907 L1389.55 72.576 L1382.1 72.576 L1382.1 65.6895 Q1379.55 69.8214 1375.74 71.8063 Q1371.93 73.7508 1366.42 73.7508 Q1359.46 73.7508 1355.32 69.8619 Q1351.23 65.9325 1351.23 59.3701 Q1351.23 51.7138 1356.34 47.825 Q1361.48 43.9361 1371.65 43.9361 L1382.1 43.9361 L1382.1 43.2069 Q1382.1 38.0623 1378.7 35.2672 Q1375.34 32.4315 1369.22 32.4315 Q1365.33 32.4315 1361.64 33.3632 Q1357.96 34.295 1354.56 36.1584 L1354.56 29.2718 Q1358.65 27.692 1362.49 26.9223 Q1366.34 26.1121 1369.99 26.1121 Q1379.83 26.1121 1384.69 31.2163 Q1389.55 36.3204 1389.55 46.6907 Z\" fill=\"#000000\" fill-rule=\"evenodd\" fill-opacity=\"1\" /><path clip-path=\"url(#clip120)\" d=\"M 0 0 M1404.75 14.324 L1404.75 27.2059 L1420.1 27.2059 L1420.1 32.9987 L1404.75 32.9987 L1404.75 57.6282 Q1404.75 63.1779 1406.24 64.7578 Q1407.78 66.3376 1412.44 66.3376 L1420.1 66.3376 L1420.1 72.576 L1412.44 72.576 Q1403.81 72.576 1400.53 69.3758 Q1397.25 66.1351 1397.25 57.6282 L1397.25 32.9987 L1391.78 32.9987 L1391.78 27.2059 L1397.25 27.2059 L1397.25 14.324 L1404.75 14.324 Z\" fill=\"#000000\" fill-rule=\"evenodd\" fill-opacity=\"1\" /><path clip-path=\"url(#clip120)\" d=\"M 0 0 M1448.54 49.7694 Q1439.5 49.7694 1436.02 51.8354 Q1432.53 53.9013 1432.53 58.8839 Q1432.53 62.8538 1435.13 65.2034 Q1437.76 67.5124 1442.26 67.5124 Q1448.45 67.5124 1452.18 63.1374 Q1455.95 58.7219 1455.95 51.4303 L1455.95 49.7694 L1448.54 49.7694 M1463.4 46.6907 L1463.4 72.576 L1455.95 72.576 L1455.95 65.6895 Q1453.4 69.8214 1449.59 71.8063 Q1445.78 73.7508 1440.27 73.7508 Q1433.3 73.7508 1429.17 69.8619 Q1425.08 65.9325 1425.08 59.3701 Q1425.08 51.7138 1430.19 47.825 Q1435.33 43.9361 1445.5 43.9361 L1455.95 43.9361 L1455.95 43.2069 Q1455.95 38.0623 1452.55 35.2672 Q1449.18 32.4315 1443.07 32.4315 Q1439.18 32.4315 1435.49 33.3632 Q1431.81 34.295 1428.4 36.1584 L1428.4 29.2718 Q1432.49 27.692 1436.34 26.9223 Q1440.19 26.1121 1443.84 26.1121 Q1453.68 26.1121 1458.54 31.2163 Q1463.4 36.3204 1463.4 46.6907 Z\" fill=\"#000000\" fill-rule=\"evenodd\" fill-opacity=\"1\" /><path clip-path=\"url(#clip120)\" d=\"M 0 0 M1500.14 28.5427 L1500.14 35.5912 Q1496.98 33.9709 1493.58 33.1607 Q1490.18 32.3505 1486.53 32.3505 Q1480.98 32.3505 1478.19 34.0519 Q1475.43 35.7533 1475.43 39.156 Q1475.43 41.7486 1477.42 43.2475 Q1479.4 44.7058 1485.4 46.0426 L1487.95 46.6097 Q1495.89 48.3111 1499.21 51.4303 Q1502.58 54.509 1502.58 60.0587 Q1502.58 66.3781 1497.55 70.0644 Q1492.57 73.7508 1483.82 73.7508 Q1480.17 73.7508 1476.2 73.0216 Q1472.27 72.3329 1467.9 70.9151 L1467.9 63.2184 Q1472.03 65.3654 1476.04 66.4591 Q1480.05 67.5124 1483.98 67.5124 Q1489.25 67.5124 1492.08 65.73 Q1494.92 63.9071 1494.92 60.6258 Q1494.92 57.5877 1492.85 55.9673 Q1490.83 54.3469 1483.9 52.8481 L1481.31 52.2405 Q1474.38 50.7821 1471.3 47.7845 Q1468.22 44.7463 1468.22 39.4801 Q1468.22 33.0797 1472.76 29.5959 Q1477.3 26.1121 1485.64 26.1121 Q1489.77 26.1121 1493.42 26.7198 Q1497.07 27.3274 1500.14 28.5427 Z\" fill=\"#000000\" fill-rule=\"evenodd\" fill-opacity=\"1\" /><path clip-path=\"url(#clip120)\" d=\"M 0 0 M1549.2 48.0275 L1549.2 51.6733 L1514.93 51.6733 Q1515.42 59.3701 1519.55 63.421 Q1523.72 67.4314 1531.13 67.4314 Q1535.43 67.4314 1539.44 66.3781 Q1543.49 65.3249 1547.46 63.2184 L1547.46 70.267 Q1543.45 71.9684 1539.24 72.8596 Q1535.02 73.7508 1530.69 73.7508 Q1519.83 73.7508 1513.47 67.4314 Q1507.15 61.1119 1507.15 50.3365 Q1507.15 39.1965 1513.15 32.6746 Q1519.18 26.1121 1529.39 26.1121 Q1538.55 26.1121 1543.85 32.0264 Q1549.2 37.9003 1549.2 48.0275 M1541.75 45.84 Q1541.67 39.7232 1538.3 36.0774 Q1534.98 32.4315 1529.47 32.4315 Q1523.23 32.4315 1519.47 35.9558 Q1515.74 39.4801 1515.17 45.8805 L1541.75 45.84 Z\" fill=\"#000000\" fill-rule=\"evenodd\" fill-opacity=\"1\" /><path clip-path=\"url(#clip120)\" d=\"M 0 0 M1564.39 14.324 L1564.39 27.2059 L1579.74 27.2059 L1579.74 32.9987 L1564.39 32.9987 L1564.39 57.6282 Q1564.39 63.1779 1565.89 64.7578 Q1567.43 66.3376 1572.09 66.3376 L1579.74 66.3376 L1579.74 72.576 L1572.09 72.576 Q1563.46 72.576 1560.18 69.3758 Q1556.9 66.1351 1556.9 57.6282 L1556.9 32.9987 L1551.43 32.9987 L1551.43 27.2059 L1556.9 27.2059 L1556.9 14.324 L1564.39 14.324 Z\" fill=\"#000000\" fill-rule=\"evenodd\" fill-opacity=\"1\" /><circle clip-path=\"url(#clip122)\" cx=\"999.274\" cy=\"1447.87\" r=\"14\" fill=\"#009af9\" fill-rule=\"evenodd\" fill-opacity=\"1\" stroke=\"#000000\" stroke-opacity=\"1\" stroke-width=\"3.2\"/>\n",
       "<circle clip-path=\"url(#clip122)\" cx=\"1256.71\" cy=\"1191\" r=\"14\" fill=\"#009af9\" fill-rule=\"evenodd\" fill-opacity=\"1\" stroke=\"#000000\" stroke-opacity=\"1\" stroke-width=\"3.2\"/>\n",
       "<circle clip-path=\"url(#clip122)\" cx=\"622.365\" cy=\"1285.56\" r=\"14\" fill=\"#009af9\" fill-rule=\"evenodd\" fill-opacity=\"1\" stroke=\"#000000\" stroke-opacity=\"1\" stroke-width=\"3.2\"/>\n",
       "<circle clip-path=\"url(#clip122)\" cx=\"681.357\" cy=\"1029.67\" r=\"14\" fill=\"#009af9\" fill-rule=\"evenodd\" fill-opacity=\"1\" stroke=\"#000000\" stroke-opacity=\"1\" stroke-width=\"3.2\"/>\n",
       "<circle clip-path=\"url(#clip122)\" cx=\"946.005\" cy=\"889.118\" r=\"14\" fill=\"#009af9\" fill-rule=\"evenodd\" fill-opacity=\"1\" stroke=\"#000000\" stroke-opacity=\"1\" stroke-width=\"3.2\"/>\n",
       "<circle clip-path=\"url(#clip122)\" cx=\"989.516\" cy=\"1108.27\" r=\"14\" fill=\"#009af9\" fill-rule=\"evenodd\" fill-opacity=\"1\" stroke=\"#000000\" stroke-opacity=\"1\" stroke-width=\"3.2\"/>\n",
       "<circle clip-path=\"url(#clip122)\" cx=\"580.685\" cy=\"1017.41\" r=\"14\" fill=\"#009af9\" fill-rule=\"evenodd\" fill-opacity=\"1\" stroke=\"#000000\" stroke-opacity=\"1\" stroke-width=\"3.2\"/>\n",
       "<circle clip-path=\"url(#clip122)\" cx=\"502.515\" cy=\"1291.82\" r=\"14\" fill=\"#009af9\" fill-rule=\"evenodd\" fill-opacity=\"1\" stroke=\"#000000\" stroke-opacity=\"1\" stroke-width=\"3.2\"/>\n",
       "<circle clip-path=\"url(#clip122)\" cx=\"801.109\" cy=\"1146.82\" r=\"14\" fill=\"#009af9\" fill-rule=\"evenodd\" fill-opacity=\"1\" stroke=\"#000000\" stroke-opacity=\"1\" stroke-width=\"3.2\"/>\n",
       "<circle clip-path=\"url(#clip122)\" cx=\"312.106\" cy=\"1101.16\" r=\"14\" fill=\"#009af9\" fill-rule=\"evenodd\" fill-opacity=\"1\" stroke=\"#000000\" stroke-opacity=\"1\" stroke-width=\"3.2\"/>\n",
       "<circle clip-path=\"url(#clip122)\" cx=\"445.345\" cy=\"1063.96\" r=\"14\" fill=\"#009af9\" fill-rule=\"evenodd\" fill-opacity=\"1\" stroke=\"#000000\" stroke-opacity=\"1\" stroke-width=\"3.2\"/>\n",
       "<circle clip-path=\"url(#clip122)\" cx=\"434.539\" cy=\"970.499\" r=\"14\" fill=\"#009af9\" fill-rule=\"evenodd\" fill-opacity=\"1\" stroke=\"#000000\" stroke-opacity=\"1\" stroke-width=\"3.2\"/>\n",
       "<circle clip-path=\"url(#clip122)\" cx=\"558.604\" cy=\"801.119\" r=\"14\" fill=\"#009af9\" fill-rule=\"evenodd\" fill-opacity=\"1\" stroke=\"#000000\" stroke-opacity=\"1\" stroke-width=\"3.2\"/>\n",
       "<circle clip-path=\"url(#clip122)\" cx=\"751.807\" cy=\"1128.27\" r=\"14\" fill=\"#009af9\" fill-rule=\"evenodd\" fill-opacity=\"1\" stroke=\"#000000\" stroke-opacity=\"1\" stroke-width=\"3.2\"/>\n",
       "<circle clip-path=\"url(#clip122)\" cx=\"830.628\" cy=\"926.022\" r=\"14\" fill=\"#009af9\" fill-rule=\"evenodd\" fill-opacity=\"1\" stroke=\"#000000\" stroke-opacity=\"1\" stroke-width=\"3.2\"/>\n",
       "<circle clip-path=\"url(#clip122)\" cx=\"439.527\" cy=\"924.127\" r=\"14\" fill=\"#009af9\" fill-rule=\"evenodd\" fill-opacity=\"1\" stroke=\"#000000\" stroke-opacity=\"1\" stroke-width=\"3.2\"/>\n",
       "<circle clip-path=\"url(#clip122)\" cx=\"852.34\" cy=\"1051.78\" r=\"14\" fill=\"#009af9\" fill-rule=\"evenodd\" fill-opacity=\"1\" stroke=\"#000000\" stroke-opacity=\"1\" stroke-width=\"3.2\"/>\n",
       "<circle clip-path=\"url(#clip122)\" cx=\"795.619\" cy=\"1003.31\" r=\"14\" fill=\"#009af9\" fill-rule=\"evenodd\" fill-opacity=\"1\" stroke=\"#000000\" stroke-opacity=\"1\" stroke-width=\"3.2\"/>\n",
       "<circle clip-path=\"url(#clip122)\" cx=\"1013.27\" cy=\"1230.4\" r=\"14\" fill=\"#009af9\" fill-rule=\"evenodd\" fill-opacity=\"1\" stroke=\"#000000\" stroke-opacity=\"1\" stroke-width=\"3.2\"/>\n",
       "<circle clip-path=\"url(#clip122)\" cx=\"560.412\" cy=\"907.448\" r=\"14\" fill=\"#009af9\" fill-rule=\"evenodd\" fill-opacity=\"1\" stroke=\"#000000\" stroke-opacity=\"1\" stroke-width=\"3.2\"/>\n",
       "<circle clip-path=\"url(#clip122)\" cx=\"206.675\" cy=\"818.272\" r=\"14\" fill=\"#009af9\" fill-rule=\"evenodd\" fill-opacity=\"1\" stroke=\"#000000\" stroke-opacity=\"1\" stroke-width=\"3.2\"/>\n",
       "<circle clip-path=\"url(#clip122)\" cx=\"734.324\" cy=\"1131.33\" r=\"14\" fill=\"#009af9\" fill-rule=\"evenodd\" fill-opacity=\"1\" stroke=\"#000000\" stroke-opacity=\"1\" stroke-width=\"3.2\"/>\n",
       "<circle clip-path=\"url(#clip122)\" cx=\"1099.66\" cy=\"1212.45\" r=\"14\" fill=\"#009af9\" fill-rule=\"evenodd\" fill-opacity=\"1\" stroke=\"#000000\" stroke-opacity=\"1\" stroke-width=\"3.2\"/>\n",
       "<circle clip-path=\"url(#clip122)\" cx=\"441.673\" cy=\"1109.77\" r=\"14\" fill=\"#009af9\" fill-rule=\"evenodd\" fill-opacity=\"1\" stroke=\"#000000\" stroke-opacity=\"1\" stroke-width=\"3.2\"/>\n",
       "<circle clip-path=\"url(#clip122)\" cx=\"966.441\" cy=\"994.645\" r=\"14\" fill=\"#009af9\" fill-rule=\"evenodd\" fill-opacity=\"1\" stroke=\"#000000\" stroke-opacity=\"1\" stroke-width=\"3.2\"/>\n",
       "<circle clip-path=\"url(#clip122)\" cx=\"452.06\" cy=\"1072.59\" r=\"14\" fill=\"#009af9\" fill-rule=\"evenodd\" fill-opacity=\"1\" stroke=\"#000000\" stroke-opacity=\"1\" stroke-width=\"3.2\"/>\n",
       "<circle clip-path=\"url(#clip122)\" cx=\"529.03\" cy=\"1175.21\" r=\"14\" fill=\"#009af9\" fill-rule=\"evenodd\" fill-opacity=\"1\" stroke=\"#000000\" stroke-opacity=\"1\" stroke-width=\"3.2\"/>\n",
       "<circle clip-path=\"url(#clip122)\" cx=\"866.108\" cy=\"785.536\" r=\"14\" fill=\"#009af9\" fill-rule=\"evenodd\" fill-opacity=\"1\" stroke=\"#000000\" stroke-opacity=\"1\" stroke-width=\"3.2\"/>\n",
       "<circle clip-path=\"url(#clip122)\" cx=\"558.302\" cy=\"1109.52\" r=\"14\" fill=\"#009af9\" fill-rule=\"evenodd\" fill-opacity=\"1\" stroke=\"#000000\" stroke-opacity=\"1\" stroke-width=\"3.2\"/>\n",
       "<circle clip-path=\"url(#clip122)\" cx=\"494.491\" cy=\"902.415\" r=\"14\" fill=\"#009af9\" fill-rule=\"evenodd\" fill-opacity=\"1\" stroke=\"#000000\" stroke-opacity=\"1\" stroke-width=\"3.2\"/>\n",
       "<circle clip-path=\"url(#clip122)\" cx=\"1777.29\" cy=\"620.658\" r=\"14\" fill=\"#009af9\" fill-rule=\"evenodd\" fill-opacity=\"1\" stroke=\"#000000\" stroke-opacity=\"1\" stroke-width=\"3.2\"/>\n",
       "<circle clip-path=\"url(#clip122)\" cx=\"1555.13\" cy=\"245.162\" r=\"14\" fill=\"#009af9\" fill-rule=\"evenodd\" fill-opacity=\"1\" stroke=\"#000000\" stroke-opacity=\"1\" stroke-width=\"3.2\"/>\n",
       "<circle clip-path=\"url(#clip122)\" cx=\"1444.45\" cy=\"356.935\" r=\"14\" fill=\"#009af9\" fill-rule=\"evenodd\" fill-opacity=\"1\" stroke=\"#000000\" stroke-opacity=\"1\" stroke-width=\"3.2\"/>\n",
       "<circle clip-path=\"url(#clip122)\" cx=\"2090.91\" cy=\"394.055\" r=\"14\" fill=\"#009af9\" fill-rule=\"evenodd\" fill-opacity=\"1\" stroke=\"#000000\" stroke-opacity=\"1\" stroke-width=\"3.2\"/>\n",
       "<circle clip-path=\"url(#clip122)\" cx=\"1377.26\" cy=\"274.081\" r=\"14\" fill=\"#009af9\" fill-rule=\"evenodd\" fill-opacity=\"1\" stroke=\"#000000\" stroke-opacity=\"1\" stroke-width=\"3.2\"/>\n",
       "<circle clip-path=\"url(#clip122)\" cx=\"1424.54\" cy=\"353.598\" r=\"14\" fill=\"#009af9\" fill-rule=\"evenodd\" fill-opacity=\"1\" stroke=\"#000000\" stroke-opacity=\"1\" stroke-width=\"3.2\"/>\n",
       "<circle clip-path=\"url(#clip122)\" cx=\"1336.99\" cy=\"383.015\" r=\"14\" fill=\"#009af9\" fill-rule=\"evenodd\" fill-opacity=\"1\" stroke=\"#000000\" stroke-opacity=\"1\" stroke-width=\"3.2\"/>\n",
       "<circle clip-path=\"url(#clip122)\" cx=\"1382.43\" cy=\"451.696\" r=\"14\" fill=\"#009af9\" fill-rule=\"evenodd\" fill-opacity=\"1\" stroke=\"#000000\" stroke-opacity=\"1\" stroke-width=\"3.2\"/>\n",
       "<circle clip-path=\"url(#clip122)\" cx=\"1320.11\" cy=\"465.724\" r=\"14\" fill=\"#009af9\" fill-rule=\"evenodd\" fill-opacity=\"1\" stroke=\"#000000\" stroke-opacity=\"1\" stroke-width=\"3.2\"/>\n",
       "<circle clip-path=\"url(#clip122)\" cx=\"1593.84\" cy=\"488.595\" r=\"14\" fill=\"#009af9\" fill-rule=\"evenodd\" fill-opacity=\"1\" stroke=\"#000000\" stroke-opacity=\"1\" stroke-width=\"3.2\"/>\n",
       "<circle clip-path=\"url(#clip122)\" cx=\"2000.68\" cy=\"231.253\" r=\"14\" fill=\"#009af9\" fill-rule=\"evenodd\" fill-opacity=\"1\" stroke=\"#000000\" stroke-opacity=\"1\" stroke-width=\"3.2\"/>\n",
       "<circle clip-path=\"url(#clip122)\" cx=\"2161.38\" cy=\"552.456\" r=\"14\" fill=\"#009af9\" fill-rule=\"evenodd\" fill-opacity=\"1\" stroke=\"#000000\" stroke-opacity=\"1\" stroke-width=\"3.2\"/>\n",
       "<circle clip-path=\"url(#clip122)\" cx=\"1614.1\" cy=\"442.094\" r=\"14\" fill=\"#009af9\" fill-rule=\"evenodd\" fill-opacity=\"1\" stroke=\"#000000\" stroke-opacity=\"1\" stroke-width=\"3.2\"/>\n",
       "<circle clip-path=\"url(#clip122)\" cx=\"1596.54\" cy=\"251.974\" r=\"14\" fill=\"#009af9\" fill-rule=\"evenodd\" fill-opacity=\"1\" stroke=\"#000000\" stroke-opacity=\"1\" stroke-width=\"3.2\"/>\n",
       "<circle clip-path=\"url(#clip122)\" cx=\"2290.25\" cy=\"320.146\" r=\"14\" fill=\"#009af9\" fill-rule=\"evenodd\" fill-opacity=\"1\" stroke=\"#000000\" stroke-opacity=\"1\" stroke-width=\"3.2\"/>\n",
       "<circle clip-path=\"url(#clip122)\" cx=\"1857.2\" cy=\"167.096\" r=\"14\" fill=\"#009af9\" fill-rule=\"evenodd\" fill-opacity=\"1\" stroke=\"#000000\" stroke-opacity=\"1\" stroke-width=\"3.2\"/>\n",
       "<circle clip-path=\"url(#clip122)\" cx=\"1753.53\" cy=\"674.602\" r=\"14\" fill=\"#009af9\" fill-rule=\"evenodd\" fill-opacity=\"1\" stroke=\"#000000\" stroke-opacity=\"1\" stroke-width=\"3.2\"/>\n",
       "<circle clip-path=\"url(#clip122)\" cx=\"1992.41\" cy=\"340.419\" r=\"14\" fill=\"#009af9\" fill-rule=\"evenodd\" fill-opacity=\"1\" stroke=\"#000000\" stroke-opacity=\"1\" stroke-width=\"3.2\"/>\n",
       "<circle clip-path=\"url(#clip122)\" cx=\"1677.74\" cy=\"279.066\" r=\"14\" fill=\"#009af9\" fill-rule=\"evenodd\" fill-opacity=\"1\" stroke=\"#000000\" stroke-opacity=\"1\" stroke-width=\"3.2\"/>\n",
       "<circle clip-path=\"url(#clip122)\" cx=\"2167.87\" cy=\"401.229\" r=\"14\" fill=\"#009af9\" fill-rule=\"evenodd\" fill-opacity=\"1\" stroke=\"#000000\" stroke-opacity=\"1\" stroke-width=\"3.2\"/>\n",
       "<circle clip-path=\"url(#clip122)\" cx=\"1345.93\" cy=\"232.475\" r=\"14\" fill=\"#009af9\" fill-rule=\"evenodd\" fill-opacity=\"1\" stroke=\"#000000\" stroke-opacity=\"1\" stroke-width=\"3.2\"/>\n",
       "<circle clip-path=\"url(#clip122)\" cx=\"1810.16\" cy=\"162.047\" r=\"14\" fill=\"#009af9\" fill-rule=\"evenodd\" fill-opacity=\"1\" stroke=\"#000000\" stroke-opacity=\"1\" stroke-width=\"3.2\"/>\n",
       "<circle clip-path=\"url(#clip122)\" cx=\"2200.93\" cy=\"552.345\" r=\"14\" fill=\"#009af9\" fill-rule=\"evenodd\" fill-opacity=\"1\" stroke=\"#000000\" stroke-opacity=\"1\" stroke-width=\"3.2\"/>\n",
       "<circle clip-path=\"url(#clip122)\" cx=\"1687.86\" cy=\"570.755\" r=\"14\" fill=\"#009af9\" fill-rule=\"evenodd\" fill-opacity=\"1\" stroke=\"#000000\" stroke-opacity=\"1\" stroke-width=\"3.2\"/>\n",
       "<circle clip-path=\"url(#clip122)\" cx=\"1538.18\" cy=\"677.568\" r=\"14\" fill=\"#009af9\" fill-rule=\"evenodd\" fill-opacity=\"1\" stroke=\"#000000\" stroke-opacity=\"1\" stroke-width=\"3.2\"/>\n",
       "<circle clip-path=\"url(#clip122)\" cx=\"1607.49\" cy=\"216.688\" r=\"14\" fill=\"#009af9\" fill-rule=\"evenodd\" fill-opacity=\"1\" stroke=\"#000000\" stroke-opacity=\"1\" stroke-width=\"3.2\"/>\n",
       "<circle clip-path=\"url(#clip122)\" cx=\"1902.2\" cy=\"450.56\" r=\"14\" fill=\"#009af9\" fill-rule=\"evenodd\" fill-opacity=\"1\" stroke=\"#000000\" stroke-opacity=\"1\" stroke-width=\"3.2\"/>\n",
       "<circle clip-path=\"url(#clip122)\" cx=\"1758.74\" cy=\"381.612\" r=\"14\" fill=\"#009af9\" fill-rule=\"evenodd\" fill-opacity=\"1\" stroke=\"#000000\" stroke-opacity=\"1\" stroke-width=\"3.2\"/>\n",
       "<circle clip-path=\"url(#clip122)\" cx=\"1432.54\" cy=\"534.427\" r=\"14\" fill=\"#009af9\" fill-rule=\"evenodd\" fill-opacity=\"1\" stroke=\"#000000\" stroke-opacity=\"1\" stroke-width=\"3.2\"/>\n",
       "<circle clip-path=\"url(#clip122)\" cx=\"1432.75\" cy=\"532.482\" r=\"14\" fill=\"#009af9\" fill-rule=\"evenodd\" fill-opacity=\"1\" stroke=\"#000000\" stroke-opacity=\"1\" stroke-width=\"3.2\"/>\n",
       "</svg>\n"
      ]
     },
     "execution_count": 1,
     "metadata": {},
     "output_type": "execute_result"
    }
   ],
   "source": [
    "using Distributions, StatsPlots, Random\n",
    "\n",
    "# Set a random seed.\n",
    "Random.seed!(3)\n",
    "\n",
    "# Construct 30 data points for each cluster.\n",
    "N = 30\n",
    "\n",
    "# Parameters for each cluster, we assume that each cluster is Gaussian distributed in the example.\n",
    "μs = [-3.5, 0.0]\n",
    "\n",
    "# Construct the data points.\n",
    "x = mapreduce(c -> rand(MvNormal([μs[c], μs[c]], 1.), N), hcat, 1:2)\n",
    "\n",
    "# Visualization.\n",
    "scatter(x[1,:], x[2,:], legend = false, title = \"Synthetic Dataset\")"
   ]
  },
  {
   "cell_type": "markdown",
   "metadata": {},
   "source": [
    "## Gaussian Mixture Model in Turing"
   ]
  },
  {
   "cell_type": "markdown",
   "metadata": {},
   "source": [
    "To cluster the data points shown above, we use a model that consists of two mixture components (clusters) and assigns each datum to one of the components. The assignment thereof determines the distribution that the data point is generated from.\n",
    "\n",
    "In particular, in a Bayesian Gaussian mixture model with $1 \\leq k \\leq K$ components for 1-D data each data point $x_i$ with $1 \\leq i \\leq N$ is generated according to the following generative process.\n",
    "First we draw the parameters for each cluster, i.e. in our example we draw location of the distributions from a Normal:\n",
    "$$\n",
    "\\mu_k \\sim Normal() \\, , \\;  \\forall k \\\\\n",
    "$$\n",
    "and then draw mixing weight for the $K$ clusters from a Dirichlet distribution, i.e.\n",
    "$$\n",
    "    w \\sim Dirichlet(K, \\alpha) \\, . \\\\\n",
    "$$\n",
    "After having constructed all the necessary model parameters, we can generate an observation by first selecting one of the clusters and then drawing the datum accordingly, i.e.\n",
    "$$\n",
    "    z_i \\sim Categorical(w) \\, , \\;  \\forall i \\\\\n",
    "    x_i \\sim Normal(\\mu_{z_i}, 1.) \\, , \\;  \\forall i\n",
    "$$\n",
    "\n",
    "For more details on Gaussian mixture models, we refer to Christopher M. Bishop, *Pattern Recognition and Machine Learning*, Section 9."
   ]
  },
  {
   "cell_type": "code",
   "execution_count": 11,
   "metadata": {},
   "outputs": [],
   "source": [
    "using Turing, MCMCChains\n",
    "\n",
    "# Turn off the progress monitor.\n",
    "#Turing.turnprogress(false)"
   ]
  },
  {
   "cell_type": "code",
   "execution_count": 3,
   "metadata": {},
   "outputs": [
    {
     "data": {
      "text/plain": [
       "GaussianMixtureModel (generic function with 1 method)"
      ]
     },
     "execution_count": 3,
     "metadata": {},
     "output_type": "execute_result"
    }
   ],
   "source": [
    "@model GaussianMixtureModel(x) = begin\n",
    "    \n",
    "    D, N = size(x)\n",
    "\n",
    "    # Draw the parameters for cluster 1.\n",
    "    μ1 ~ Normal()\n",
    "    \n",
    "    # Draw the parameters for cluster 2.\n",
    "    μ2 ~ Normal()\n",
    "    \n",
    "    μ = [μ1, μ2]\n",
    "    \n",
    "    # Uncomment the following lines to draw the weights for the K clusters \n",
    "    # from a Dirichlet distribution.\n",
    "    \n",
    "    # α = 1.0\n",
    "    # w ~ Dirichlet(2, α)\n",
    "    \n",
    "    # Comment out this line if you instead want to draw the weights.\n",
    "    w = [0.5, 0.5]\n",
    "    \n",
    "    # Draw assignments for each datum and generate it from a multivariate normal.\n",
    "    k = Vector{Int}(undef, N)\n",
    "    for i in 1:N\n",
    "        k[i] ~ Categorical(w)\n",
    "        x[:,i] ~ MvNormal([μ[k[i]], μ[k[i]]], 1.)\n",
    "    end\n",
    "    return k\n",
    "end"
   ]
  },
  {
   "cell_type": "markdown",
   "metadata": {},
   "source": [
    "After having specified the model in Turing, we can construct the model function and run a MCMC simulation to obtain assignments of the data points."
   ]
  },
  {
   "cell_type": "code",
   "execution_count": 4,
   "metadata": {},
   "outputs": [],
   "source": [
    "gmm_model = GaussianMixtureModel(x);"
   ]
  },
  {
   "cell_type": "markdown",
   "metadata": {},
   "source": [
    "To draw observations from the posterior distribution, we use a [particle Gibbs](https://www.stats.ox.ac.uk/~doucet/andrieu_doucet_holenstein_PMCMC.pdf) sampler to draw the discrete assignment parameters as well as a Hamiltonion Monte Carlo sampler for continous parameters.\n",
    "\n",
    "Note that we use a `Gibbs` sampler to combine both samplers for Bayesian inference in our model. We are also calling `mapreduce` to generate multiple chains, particularly so we test for convergence. The `chainscat` function simply adds multiple chains together."
   ]
  },
  {
   "cell_type": "code",
   "execution_count": 5,
   "metadata": {},
   "outputs": [
    {
     "name": "stderr",
     "output_type": "stream",
     "text": [
      "\u001b[32mSampling: 100%|█████████████████████████████████████████| Time: 0:02:22\u001b[39m\n",
      "\u001b[32mSampling: 100%|█████████████████████████████████████████| Time: 0:02:16\u001b[39m\n",
      "\u001b[32mSampling: 100%|█████████████████████████████████████████| Time: 0:01:34\u001b[39m\n"
     ]
    },
    {
     "ename": "LoadError",
     "evalue": "\u001b[91mInterruptException:\u001b[39m",
     "output_type": "error",
     "traceback": [
      "\u001b[91mInterruptException:\u001b[39m",
      "",
      "Stacktrace:",
      " [1] copy at ./array.jl:371 [inlined]",
      " [2] _deepcopy_array_t at ./deepcopy.jl:97 [inlined]",
      " [3] deepcopy_internal(::Array{Float64,1}, ::IdDict{Any,Any}) at ./deepcopy.jl:92",
      " [4] deepcopy_internal(::Any, ::IdDict{Any,Any}) at ./deepcopy.jl:76",
      " [5] _deepcopy_array_t(::Any, ::Type{T} where T, ::IdDict{Any,Any}) at ./deepcopy.jl:105",
      " [6] deepcopy_internal(::Array{DiscreteNonParametric{Int64,Float64,Base.OneTo{Int64},Array{Float64,1}},1}, ::IdDict{Any,Any}) at ./deepcopy.jl:92",
      " [7] deepcopy_internal(::Any, ::IdDict{Any,Any}) at ./deepcopy.jl:76 (repeats 3 times)",
      " [8] deepcopy at ./deepcopy.jl:26 [inlined]",
      " [9] copy at /Users/dtolpin/.julia/packages/Turing/XLLTf/src/core/container.jl:20 [inlined]",
      " [10] fork(::AdvancedPS.Trace{Turing.Core.TracedModel{DynamicPPL.Sampler{PG{(:k,),AdvancedPS.ResampleWithESSThreshold{typeof(AdvancedPS.resample_systematic),Float64}}},DynamicPPL.VarInfo{NamedTuple{(:μ1, :μ2, :k),Tuple{DynamicPPL.Metadata{Dict{DynamicPPL.VarName{:μ1,Tuple{}},Int64},Array{Normal{Float64},1},Array{DynamicPPL.VarName{:μ1,Tuple{}},1},Array{Float64,1},Array{Set{DynamicPPL.Selector},1}},DynamicPPL.Metadata{Dict{DynamicPPL.VarName{:μ2,Tuple{}},Int64},Array{Normal{Float64},1},Array{DynamicPPL.VarName{:μ2,Tuple{}},1},Array{Float64,1},Array{Set{DynamicPPL.Selector},1}},DynamicPPL.Metadata{Dict{DynamicPPL.VarName{:k,Tuple{Tuple{Int64}}},Int64},Array{DiscreteNonParametric{Int64,Float64,Base.OneTo{Int64},Array{Float64,1}},1},Array{DynamicPPL.VarName{:k,Tuple{Tuple{Int64}}},1},Array{Int64,1},Array{Set{DynamicPPL.Selector},1}}}},Float64},DynamicPPL.Model{var\"#3#4\",(:x,),(),(),Tuple{Array{Float64,2}},Tuple{}}}}, ::Bool) at /Users/dtolpin/.julia/packages/AdvancedPS/Tf7fJ/src/container.jl:38",
      " [11] resample_propagate!(::AdvancedPS.ParticleContainer{AdvancedPS.Trace{Turing.Core.TracedModel{DynamicPPL.Sampler{PG{(:k,),AdvancedPS.ResampleWithESSThreshold{typeof(AdvancedPS.resample_systematic),Float64}}},DynamicPPL.VarInfo{NamedTuple{(:μ1, :μ2, :k),Tuple{DynamicPPL.Metadata{Dict{DynamicPPL.VarName{:μ1,Tuple{}},Int64},Array{Normal{Float64},1},Array{DynamicPPL.VarName{:μ1,Tuple{}},1},Array{Float64,1},Array{Set{DynamicPPL.Selector},1}},DynamicPPL.Metadata{Dict{DynamicPPL.VarName{:μ2,Tuple{}},Int64},Array{Normal{Float64},1},Array{DynamicPPL.VarName{:μ2,Tuple{}},1},Array{Float64,1},Array{Set{DynamicPPL.Selector},1}},DynamicPPL.Metadata{Dict{DynamicPPL.VarName{:k,Tuple{Tuple{Int64}}},Int64},Array{DiscreteNonParametric{Int64,Float64,Base.OneTo{Int64},Array{Float64,1}},1},Array{DynamicPPL.VarName{:k,Tuple{Tuple{Int64}}},1},Array{Int64,1},Array{Set{DynamicPPL.Selector},1}}}},Float64},DynamicPPL.Model{var\"#3#4\",(:x,),(),(),Tuple{Array{Float64,2}},Tuple{}}}}}, ::typeof(AdvancedPS.resample_systematic), ::Nothing; weights::Array{Float64,1}) at /Users/dtolpin/.julia/packages/AdvancedPS/Tf7fJ/src/container.jl:214",
      " [12] #resample_propagate!#6 at /Users/dtolpin/.julia/packages/AdvancedPS/Tf7fJ/src/container.jl:242 [inlined]",
      " [13] resample_propagate!(::AdvancedPS.ParticleContainer{AdvancedPS.Trace{Turing.Core.TracedModel{DynamicPPL.Sampler{PG{(:k,),AdvancedPS.ResampleWithESSThreshold{typeof(AdvancedPS.resample_systematic),Float64}}},DynamicPPL.VarInfo{NamedTuple{(:μ1, :μ2, :k),Tuple{DynamicPPL.Metadata{Dict{DynamicPPL.VarName{:μ1,Tuple{}},Int64},Array{Normal{Float64},1},Array{DynamicPPL.VarName{:μ1,Tuple{}},1},Array{Float64,1},Array{Set{DynamicPPL.Selector},1}},DynamicPPL.Metadata{Dict{DynamicPPL.VarName{:μ2,Tuple{}},Int64},Array{Normal{Float64},1},Array{DynamicPPL.VarName{:μ2,Tuple{}},1},Array{Float64,1},Array{Set{DynamicPPL.Selector},1}},DynamicPPL.Metadata{Dict{DynamicPPL.VarName{:k,Tuple{Tuple{Int64}}},Int64},Array{DiscreteNonParametric{Int64,Float64,Base.OneTo{Int64},Array{Float64,1}},1},Array{DynamicPPL.VarName{:k,Tuple{Tuple{Int64}}},1},Array{Int64,1},Array{Set{DynamicPPL.Selector},1}}}},Float64},DynamicPPL.Model{var\"#3#4\",(:x,),(),(),Tuple{Array{Float64,2}},Tuple{}}}}}, ::AdvancedPS.ResampleWithESSThreshold{typeof(AdvancedPS.resample_systematic),Float64}, ::Nothing) at /Users/dtolpin/.julia/packages/AdvancedPS/Tf7fJ/src/container.jl:239 (repeats 2 times)",
      " [14] sweep!(::AdvancedPS.ParticleContainer{AdvancedPS.Trace{Turing.Core.TracedModel{DynamicPPL.Sampler{PG{(:k,),AdvancedPS.ResampleWithESSThreshold{typeof(AdvancedPS.resample_systematic),Float64}}},DynamicPPL.VarInfo{NamedTuple{(:μ1, :μ2, :k),Tuple{DynamicPPL.Metadata{Dict{DynamicPPL.VarName{:μ1,Tuple{}},Int64},Array{Normal{Float64},1},Array{DynamicPPL.VarName{:μ1,Tuple{}},1},Array{Float64,1},Array{Set{DynamicPPL.Selector},1}},DynamicPPL.Metadata{Dict{DynamicPPL.VarName{:μ2,Tuple{}},Int64},Array{Normal{Float64},1},Array{DynamicPPL.VarName{:μ2,Tuple{}},1},Array{Float64,1},Array{Set{DynamicPPL.Selector},1}},DynamicPPL.Metadata{Dict{DynamicPPL.VarName{:k,Tuple{Tuple{Int64}}},Int64},Array{DiscreteNonParametric{Int64,Float64,Base.OneTo{Int64},Array{Float64,1}},1},Array{DynamicPPL.VarName{:k,Tuple{Tuple{Int64}}},1},Array{Int64,1},Array{Set{DynamicPPL.Selector},1}}}},Float64},DynamicPPL.Model{var\"#3#4\",(:x,),(),(),Tuple{Array{Float64,2}},Tuple{}}}}}, ::AdvancedPS.ResampleWithESSThreshold{typeof(AdvancedPS.resample_systematic),Float64}) at /Users/dtolpin/.julia/packages/AdvancedPS/Tf7fJ/src/container.jl:331",
      " [15] #step#80 at /Users/dtolpin/.julia/packages/Turing/XLLTf/src/inference/AdvancedSMC.jl:300 [inlined]",
      " [16] step(::Random._GLOBAL_RNG, ::DynamicPPL.Model{var\"#3#4\",(:x,),(),(),Tuple{Array{Float64,2}},Tuple{}}, ::DynamicPPL.Sampler{PG{(:k,),AdvancedPS.ResampleWithESSThreshold{typeof(AdvancedPS.resample_systematic),Float64}}}, ::DynamicPPL.VarInfo{NamedTuple{(:μ1, :μ2, :k),Tuple{DynamicPPL.Metadata{Dict{DynamicPPL.VarName{:μ1,Tuple{}},Int64},Array{Normal{Float64},1},Array{DynamicPPL.VarName{:μ1,Tuple{}},1},Array{Float64,1},Array{Set{DynamicPPL.Selector},1}},DynamicPPL.Metadata{Dict{DynamicPPL.VarName{:μ2,Tuple{}},Int64},Array{Normal{Float64},1},Array{DynamicPPL.VarName{:μ2,Tuple{}},1},Array{Float64,1},Array{Set{DynamicPPL.Selector},1}},DynamicPPL.Metadata{Dict{DynamicPPL.VarName{:k,Tuple{Tuple{Int64}}},Int64},Array{DiscreteNonParametric{Int64,Float64,Base.OneTo{Int64},Array{Float64,1}},1},Array{DynamicPPL.VarName{:k,Tuple{Tuple{Int64}}},1},Array{Int64,1},Array{Set{DynamicPPL.Selector},1}}}},Float64}) at /Users/dtolpin/.julia/packages/Turing/XLLTf/src/inference/AdvancedSMC.jl:283",
      " [17] (::Turing.Inference.var\"#94#95\"{Base.Iterators.Pairs{Union{},Union{},Tuple{},NamedTuple{(),Tuple{}}},Random._GLOBAL_RNG,DynamicPPL.Model{var\"#3#4\",(:x,),(),(),Tuple{Array{Float64,2}},Tuple{}}})(::DynamicPPL.Sampler{PG{(:k,),AdvancedPS.ResampleWithESSThreshold{typeof(AdvancedPS.resample_systematic),Float64}}}, ::DynamicPPL.VarInfo{NamedTuple{(:μ1, :μ2, :k),Tuple{DynamicPPL.Metadata{Dict{DynamicPPL.VarName{:μ1,Tuple{}},Int64},Array{Normal{Float64},1},Array{DynamicPPL.VarName{:μ1,Tuple{}},1},Array{Float64,1},Array{Set{DynamicPPL.Selector},1}},DynamicPPL.Metadata{Dict{DynamicPPL.VarName{:μ2,Tuple{}},Int64},Array{Normal{Float64},1},Array{DynamicPPL.VarName{:μ2,Tuple{}},1},Array{Float64,1},Array{Set{DynamicPPL.Selector},1}},DynamicPPL.Metadata{Dict{DynamicPPL.VarName{:k,Tuple{Tuple{Int64}}},Int64},Array{DiscreteNonParametric{Int64,Float64,Base.OneTo{Int64},Array{Float64,1}},1},Array{DynamicPPL.VarName{:k,Tuple{Tuple{Int64}}},1},Array{Int64,1},Array{Set{DynamicPPL.Selector},1}}}},Float64}) at /Users/dtolpin/.julia/packages/Turing/XLLTf/src/inference/gibbs.jl:240",
      " [18] map at ./tuple.jl:177 [inlined]",
      " [19] step(::Random._GLOBAL_RNG, ::DynamicPPL.Model{var\"#3#4\",(:x,),(),(),Tuple{Array{Float64,2}},Tuple{}}, ::DynamicPPL.Sampler{Gibbs{(:k, :μ1, :μ2),Tuple{PG{(:k,),AdvancedPS.ResampleWithESSThreshold{typeof(AdvancedPS.resample_systematic),Float64}},HMC{Turing.Core.ForwardDiffAD{40},(:μ1, :μ2),AdvancedHMC.UnitEuclideanMetric}}}}, ::Turing.Inference.GibbsState{DynamicPPL.VarInfo{NamedTuple{(:μ1, :μ2, :k),Tuple{DynamicPPL.Metadata{Dict{DynamicPPL.VarName{:μ1,Tuple{}},Int64},Array{Normal{Float64},1},Array{DynamicPPL.VarName{:μ1,Tuple{}},1},Array{Float64,1},Array{Set{DynamicPPL.Selector},1}},DynamicPPL.Metadata{Dict{DynamicPPL.VarName{:μ2,Tuple{}},Int64},Array{Normal{Float64},1},Array{DynamicPPL.VarName{:μ2,Tuple{}},1},Array{Float64,1},Array{Set{DynamicPPL.Selector},1}},DynamicPPL.Metadata{Dict{DynamicPPL.VarName{:k,Tuple{Tuple{Int64}}},Int64},Array{DiscreteNonParametric{Int64,Float64,Base.OneTo{Int64},Array{Float64,1}},1},Array{DynamicPPL.VarName{:k,Tuple{Tuple{Int64}}},1},Array{Int64,1},Array{Set{DynamicPPL.Selector},1}}}},Float64},Tuple{DynamicPPL.Sampler{PG{(:k,),AdvancedPS.ResampleWithESSThreshold{typeof(AdvancedPS.resample_systematic),Float64}}},DynamicPPL.Sampler{HMC{Turing.Core.ForwardDiffAD{40},(:μ1, :μ2),AdvancedHMC.UnitEuclideanMetric}}},Tuple{DynamicPPL.VarInfo{NamedTuple{(:μ1, :μ2, :k),Tuple{DynamicPPL.Metadata{Dict{DynamicPPL.VarName{:μ1,Tuple{}},Int64},Array{Normal{Float64},1},Array{DynamicPPL.VarName{:μ1,Tuple{}},1},Array{Float64,1},Array{Set{DynamicPPL.Selector},1}},DynamicPPL.Metadata{Dict{DynamicPPL.VarName{:μ2,Tuple{}},Int64},Array{Normal{Float64},1},Array{DynamicPPL.VarName{:μ2,Tuple{}},1},Array{Float64,1},Array{Set{DynamicPPL.Selector},1}},DynamicPPL.Metadata{Dict{DynamicPPL.VarName{:k,Tuple{Tuple{Int64}}},Int64},Array{DiscreteNonParametric{Int64,Float64,Base.OneTo{Int64},Array{Float64,1}},1},Array{DynamicPPL.VarName{:k,Tuple{Tuple{Int64}}},1},Array{Int64,1},Array{Set{DynamicPPL.Selector},1}}}},Float64},Turing.Inference.HMCState{DynamicPPL.VarInfo{NamedTuple{(:μ1, :μ2, :k),Tuple{DynamicPPL.Metadata{Dict{DynamicPPL.VarName{:μ1,Tuple{}},Int64},Array{Normal{Float64},1},Array{DynamicPPL.VarName{:μ1,Tuple{}},1},Array{Float64,1},Array{Set{DynamicPPL.Selector},1}},DynamicPPL.Metadata{Dict{DynamicPPL.VarName{:μ2,Tuple{}},Int64},Array{Normal{Float64},1},Array{DynamicPPL.VarName{:μ2,Tuple{}},1},Array{Float64,1},Array{Set{DynamicPPL.Selector},1}},DynamicPPL.Metadata{Dict{DynamicPPL.VarName{:k,Tuple{Tuple{Int64}}},Int64},Array{DiscreteNonParametric{Int64,Float64,Base.OneTo{Int64},Array{Float64,1}},1},Array{DynamicPPL.VarName{:k,Tuple{Tuple{Int64}}},1},Array{Int64,1},Array{Set{DynamicPPL.Selector},1}}}},Float64},AdvancedHMC.StaticTrajectory{AdvancedHMC.EndPointTS,AdvancedHMC.Leapfrog{Float64}},AdvancedHMC.Hamiltonian{AdvancedHMC.UnitEuclideanMetric{Float64,Tuple{Int64}},Turing.Inference.var\"#logπ#52\"{DynamicPPL.VarInfo{NamedTuple{(:μ1, :μ2, :k),Tuple{DynamicPPL.Metadata{Dict{DynamicPPL.VarName{:μ1,Tuple{}},Int64},Array{Normal{Float64},1},Array{DynamicPPL.VarName{:μ1,Tuple{}},1},Array{Float64,1},Array{Set{DynamicPPL.Selector},1}},DynamicPPL.Metadata{Dict{DynamicPPL.VarName{:μ2,Tuple{}},Int64},Array{Normal{Float64},1},Array{DynamicPPL.VarName{:μ2,Tuple{}},1},Array{Float64,1},Array{Set{DynamicPPL.Selector},1}},DynamicPPL.Metadata{Dict{DynamicPPL.VarName{:k,Tuple{Tuple{Int64}}},Int64},Array{DiscreteNonParametric{Int64,Float64,Base.OneTo{Int64},Array{Float64,1}},1},Array{DynamicPPL.VarName{:k,Tuple{Tuple{Int64}}},1},Array{Int64,1},Array{Set{DynamicPPL.Selector},1}}}},Float64},DynamicPPL.Sampler{HMC{Turing.Core.ForwardDiffAD{40},(:μ1, :μ2),AdvancedHMC.UnitEuclideanMetric}},DynamicPPL.Model{var\"#3#4\",(:x,),(),(),Tuple{Array{Float64,2}},Tuple{}}},Turing.Inference.var\"#∂logπ∂θ#51\"{DynamicPPL.VarInfo{NamedTuple{(:μ1, :μ2, :k),Tuple{DynamicPPL.Metadata{Dict{DynamicPPL.VarName{:μ1,Tuple{}},Int64},Array{Normal{Float64},1},Array{DynamicPPL.VarName{:μ1,Tuple{}},1},Array{Float64,1},Array{Set{DynamicPPL.Selector},1}},DynamicPPL.Metadata{Dict{DynamicPPL.VarName{:μ2,Tuple{}},Int64},Array{Normal{Float64},1},Array{DynamicPPL.VarName{:μ2,Tuple{}},1},Array{Float64,1},Array{Set{DynamicPPL.Selector},1}},DynamicPPL.Metadata{Dict{DynamicPPL.VarName{:k,Tuple{Tuple{Int64}}},Int64},Array{DiscreteNonParametric{Int64,Float64,Base.OneTo{Int64},Array{Float64,1}},1},Array{DynamicPPL.VarName{:k,Tuple{Tuple{Int64}}},1},Array{Int64,1},Array{Set{DynamicPPL.Selector},1}}}},Float64},DynamicPPL.Sampler{HMC{Turing.Core.ForwardDiffAD{40},(:μ1, :μ2),AdvancedHMC.UnitEuclideanMetric}},DynamicPPL.Model{var\"#3#4\",(:x,),(),(),Tuple{Array{Float64,2}},Tuple{}}}},AdvancedHMC.PhasePoint{Array{Float64,1},AdvancedHMC.DualValue{Float64,Array{Float64,1}}},AdvancedHMC.Adaptation.NoAdaptation}}}; kwargs::Base.Iterators.Pairs{Union{},Union{},Tuple{},NamedTuple{(),Tuple{}}}) at /Users/dtolpin/.julia/packages/Turing/XLLTf/src/inference/gibbs.jl:230",
      " [20] step(::Random._GLOBAL_RNG, ::DynamicPPL.Model{var\"#3#4\",(:x,),(),(),Tuple{Array{Float64,2}},Tuple{}}, ::DynamicPPL.Sampler{Gibbs{(:k, :μ1, :μ2),Tuple{PG{(:k,),AdvancedPS.ResampleWithESSThreshold{typeof(AdvancedPS.resample_systematic),Float64}},HMC{Turing.Core.ForwardDiffAD{40},(:μ1, :μ2),AdvancedHMC.UnitEuclideanMetric}}}}, ::Turing.Inference.GibbsState{DynamicPPL.VarInfo{NamedTuple{(:μ1, :μ2, :k),Tuple{DynamicPPL.Metadata{Dict{DynamicPPL.VarName{:μ1,Tuple{}},Int64},Array{Normal{Float64},1},Array{DynamicPPL.VarName{:μ1,Tuple{}},1},Array{Float64,1},Array{Set{DynamicPPL.Selector},1}},DynamicPPL.Metadata{Dict{DynamicPPL.VarName{:μ2,Tuple{}},Int64},Array{Normal{Float64},1},Array{DynamicPPL.VarName{:μ2,Tuple{}},1},Array{Float64,1},Array{Set{DynamicPPL.Selector},1}},DynamicPPL.Metadata{Dict{DynamicPPL.VarName{:k,Tuple{Tuple{Int64}}},Int64},Array{DiscreteNonParametric{Int64,Float64,Base.OneTo{Int64},Array{Float64,1}},1},Array{DynamicPPL.VarName{:k,Tuple{Tuple{Int64}}},1},Array{Int64,1},Array{Set{DynamicPPL.Selector},1}}}},Float64},Tuple{DynamicPPL.Sampler{PG{(:k,),AdvancedPS.ResampleWithESSThreshold{typeof(AdvancedPS.resample_systematic),Float64}}},DynamicPPL.Sampler{HMC{Turing.Core.ForwardDiffAD{40},(:μ1, :μ2),AdvancedHMC.UnitEuclideanMetric}}},Tuple{DynamicPPL.VarInfo{NamedTuple{(:μ1, :μ2, :k),Tuple{DynamicPPL.Metadata{Dict{DynamicPPL.VarName{:μ1,Tuple{}},Int64},Array{Normal{Float64},1},Array{DynamicPPL.VarName{:μ1,Tuple{}},1},Array{Float64,1},Array{Set{DynamicPPL.Selector},1}},DynamicPPL.Metadata{Dict{DynamicPPL.VarName{:μ2,Tuple{}},Int64},Array{Normal{Float64},1},Array{DynamicPPL.VarName{:μ2,Tuple{}},1},Array{Float64,1},Array{Set{DynamicPPL.Selector},1}},DynamicPPL.Metadata{Dict{DynamicPPL.VarName{:k,Tuple{Tuple{Int64}}},Int64},Array{DiscreteNonParametric{Int64,Float64,Base.OneTo{Int64},Array{Float64,1}},1},Array{DynamicPPL.VarName{:k,Tuple{Tuple{Int64}}},1},Array{Int64,1},Array{Set{DynamicPPL.Selector},1}}}},Float64},Turing.Inference.HMCState{DynamicPPL.VarInfo{NamedTuple{(:μ1, :μ2, :k),Tuple{DynamicPPL.Metadata{Dict{DynamicPPL.VarName{:μ1,Tuple{}},Int64},Array{Normal{Float64},1},Array{DynamicPPL.VarName{:μ1,Tuple{}},1},Array{Float64,1},Array{Set{DynamicPPL.Selector},1}},DynamicPPL.Metadata{Dict{DynamicPPL.VarName{:μ2,Tuple{}},Int64},Array{Normal{Float64},1},Array{DynamicPPL.VarName{:μ2,Tuple{}},1},Array{Float64,1},Array{Set{DynamicPPL.Selector},1}},DynamicPPL.Metadata{Dict{DynamicPPL.VarName{:k,Tuple{Tuple{Int64}}},Int64},Array{DiscreteNonParametric{Int64,Float64,Base.OneTo{Int64},Array{Float64,1}},1},Array{DynamicPPL.VarName{:k,Tuple{Tuple{Int64}}},1},Array{Int64,1},Array{Set{DynamicPPL.Selector},1}}}},Float64},AdvancedHMC.StaticTrajectory{AdvancedHMC.EndPointTS,AdvancedHMC.Leapfrog{Float64}},AdvancedHMC.Hamiltonian{AdvancedHMC.UnitEuclideanMetric{Float64,Tuple{Int64}},Turing.Inference.var\"#logπ#52\"{DynamicPPL.VarInfo{NamedTuple{(:μ1, :μ2, :k),Tuple{DynamicPPL.Metadata{Dict{DynamicPPL.VarName{:μ1,Tuple{}},Int64},Array{Normal{Float64},1},Array{DynamicPPL.VarName{:μ1,Tuple{}},1},Array{Float64,1},Array{Set{DynamicPPL.Selector},1}},DynamicPPL.Metadata{Dict{DynamicPPL.VarName{:μ2,Tuple{}},Int64},Array{Normal{Float64},1},Array{DynamicPPL.VarName{:μ2,Tuple{}},1},Array{Float64,1},Array{Set{DynamicPPL.Selector},1}},DynamicPPL.Metadata{Dict{DynamicPPL.VarName{:k,Tuple{Tuple{Int64}}},Int64},Array{DiscreteNonParametric{Int64,Float64,Base.OneTo{Int64},Array{Float64,1}},1},Array{DynamicPPL.VarName{:k,Tuple{Tuple{Int64}}},1},Array{Int64,1},Array{Set{DynamicPPL.Selector},1}}}},Float64},DynamicPPL.Sampler{HMC{Turing.Core.ForwardDiffAD{40},(:μ1, :μ2),AdvancedHMC.UnitEuclideanMetric}},DynamicPPL.Model{var\"#3#4\",(:x,),(),(),Tuple{Array{Float64,2}},Tuple{}}},Turing.Inference.var\"#∂logπ∂θ#51\"{DynamicPPL.VarInfo{NamedTuple{(:μ1, :μ2, :k),Tuple{DynamicPPL.Metadata{Dict{DynamicPPL.VarName{:μ1,Tuple{}},Int64},Array{Normal{Float64},1},Array{DynamicPPL.VarName{:μ1,Tuple{}},1},Array{Float64,1},Array{Set{DynamicPPL.Selector},1}},DynamicPPL.Metadata{Dict{DynamicPPL.VarName{:μ2,Tuple{}},Int64},Array{Normal{Float64},1},Array{DynamicPPL.VarName{:μ2,Tuple{}},1},Array{Float64,1},Array{Set{DynamicPPL.Selector},1}},DynamicPPL.Metadata{Dict{DynamicPPL.VarName{:k,Tuple{Tuple{Int64}}},Int64},Array{DiscreteNonParametric{Int64,Float64,Base.OneTo{Int64},Array{Float64,1}},1},Array{DynamicPPL.VarName{:k,Tuple{Tuple{Int64}}},1},Array{Int64,1},Array{Set{DynamicPPL.Selector},1}}}},Float64},DynamicPPL.Sampler{HMC{Turing.Core.ForwardDiffAD{40},(:μ1, :μ2),AdvancedHMC.UnitEuclideanMetric}},DynamicPPL.Model{var\"#3#4\",(:x,),(),(),Tuple{Array{Float64,2}},Tuple{}}}},AdvancedHMC.PhasePoint{Array{Float64,1},AdvancedHMC.DualValue{Float64,Array{Float64,1}}},AdvancedHMC.Adaptation.NoAdaptation}}}) at /Users/dtolpin/.julia/packages/Turing/XLLTf/src/inference/gibbs.jl:228",
      " [21] macro expansion at /Users/dtolpin/.julia/packages/AbstractMCMC/Nw3Wn/src/sample.jl:115 [inlined]",
      " [22] macro expansion at /Users/dtolpin/.julia/packages/ProgressLogging/6KXlp/src/ProgressLogging.jl:328 [inlined]",
      " [23] (::AbstractMCMC.var\"#20#21\"{Bool,String,Nothing,Int64,Int64,Base.Iterators.Pairs{Union{},Union{},Tuple{},NamedTuple{(),Tuple{}}},Random._GLOBAL_RNG,DynamicPPL.Model{var\"#3#4\",(:x,),(),(),Tuple{Array{Float64,2}},Tuple{}},DynamicPPL.Sampler{Gibbs{(:k, :μ1, :μ2),Tuple{PG{(:k,),AdvancedPS.ResampleWithESSThreshold{typeof(AdvancedPS.resample_systematic),Float64}},HMC{Turing.Core.ForwardDiffAD{40},(:μ1, :μ2),AdvancedHMC.UnitEuclideanMetric}}}},Int64,Int64})() at /Users/dtolpin/.julia/packages/AbstractMCMC/Nw3Wn/src/logging.jl:11",
      " [24] with_logstate(::Function, ::Any) at ./logging.jl:408",
      " [25] with_logger(::Function, ::LoggingExtras.TeeLogger{Tuple{LoggingExtras.EarlyFilteredLogger{ConsoleProgressMonitor.ProgressLogger,AbstractMCMC.var\"#1#3\"{Module}},LoggingExtras.EarlyFilteredLogger{Base.CoreLogging.SimpleLogger,AbstractMCMC.var\"#2#4\"{Module}}}}) at ./logging.jl:514",
      " [26] with_progresslogger(::Function, ::Module, ::Base.CoreLogging.SimpleLogger) at /Users/dtolpin/.julia/packages/AbstractMCMC/Nw3Wn/src/logging.jl:34",
      " [27] macro expansion at /Users/dtolpin/.julia/packages/AbstractMCMC/Nw3Wn/src/logging.jl:10 [inlined]",
      " [28] mcmcsample(::Random._GLOBAL_RNG, ::DynamicPPL.Model{var\"#3#4\",(:x,),(),(),Tuple{Array{Float64,2}},Tuple{}}, ::DynamicPPL.Sampler{Gibbs{(:k, :μ1, :μ2),Tuple{PG{(:k,),AdvancedPS.ResampleWithESSThreshold{typeof(AdvancedPS.resample_systematic),Float64}},HMC{Turing.Core.ForwardDiffAD{40},(:μ1, :μ2),AdvancedHMC.UnitEuclideanMetric}}}}, ::Int64; progress::Bool, progressname::String, callback::Nothing, discard_initial::Int64, thinning::Int64, chain_type::Type{T} where T, kwargs::Base.Iterators.Pairs{Union{},Union{},Tuple{},NamedTuple{(),Tuple{}}}) at /Users/dtolpin/.julia/packages/AbstractMCMC/Nw3Wn/src/sample.jl:76",
      " [29] sample(::Random._GLOBAL_RNG, ::DynamicPPL.Model{var\"#3#4\",(:x,),(),(),Tuple{Array{Float64,2}},Tuple{}}, ::DynamicPPL.Sampler{Gibbs{(:k, :μ1, :μ2),Tuple{PG{(:k,),AdvancedPS.ResampleWithESSThreshold{typeof(AdvancedPS.resample_systematic),Float64}},HMC{Turing.Core.ForwardDiffAD{40},(:μ1, :μ2),AdvancedHMC.UnitEuclideanMetric}}}}, ::Int64; chain_type::Type{T} where T, resume_from::Nothing, progress::Bool, kwargs::Base.Iterators.Pairs{Union{},Union{},Tuple{},NamedTuple{(),Tuple{}}}) at /Users/dtolpin/.julia/packages/Turing/XLLTf/src/inference/Inference.jl:155",
      " [30] sample at /Users/dtolpin/.julia/packages/Turing/XLLTf/src/inference/Inference.jl:154 [inlined]",
      " [31] #sample#2 at /Users/dtolpin/.julia/packages/Turing/XLLTf/src/inference/Inference.jl:141 [inlined]",
      " [32] sample at /Users/dtolpin/.julia/packages/Turing/XLLTf/src/inference/Inference.jl:141 [inlined]",
      " [33] #sample#1 at /Users/dtolpin/.julia/packages/Turing/XLLTf/src/inference/Inference.jl:131 [inlined]",
      " [34] sample(::DynamicPPL.Model{var\"#3#4\",(:x,),(),(),Tuple{Array{Float64,2}},Tuple{}}, ::Gibbs{(:k, :μ1, :μ2),Tuple{PG{(:k,),AdvancedPS.ResampleWithESSThreshold{typeof(AdvancedPS.resample_systematic),Float64}},HMC{Turing.Core.ForwardDiffAD{40},(:μ1, :μ2),AdvancedHMC.UnitEuclideanMetric}}}, ::Int64) at /Users/dtolpin/.julia/packages/Turing/XLLTf/src/inference/Inference.jl:131",
      " [35] (::var\"#5#6\")(::Int64) at ./In[5]:2",
      " [36] _mapreduce(::var\"#5#6\", ::typeof(chainscat), ::IndexLinear, ::UnitRange{Int64}) at ./reduce.jl:411",
      " [37] _mapreduce_dim(::Function, ::Function, ::NamedTuple{(),Tuple{}}, ::UnitRange{Int64}, ::Colon) at ./reducedim.jl:318",
      " [38] #mapreduce#620 at ./reducedim.jl:310 [inlined]",
      " [39] mapreduce(::Function, ::Function, ::UnitRange{Int64}) at ./reducedim.jl:310",
      " [40] top-level scope at In[5]:2",
      " [41] include_string(::Function, ::Module, ::String, ::String) at ./loading.jl:1091"
     ]
    }
   ],
   "source": [
    "gmm_sampler = Gibbs(PG(100, :k), HMC(0.05, 10, :μ1, :μ2))\n",
    "tchain = mapreduce(c -> sample(gmm_model, gmm_sampler, 100), chainscat, 1:3);"
   ]
  },
  {
   "cell_type": "markdown",
   "metadata": {},
   "source": [
    "## Visualize the Density Region of the Mixture Model"
   ]
  },
  {
   "cell_type": "markdown",
   "metadata": {},
   "source": [
    "After sucessfully doing posterior inference, we can first visualize the trace and density of the parameters of interest.\n",
    "\n",
    "In particular, in this example we consider the sample values of the location parameter for the two clusters."
   ]
  },
  {
   "cell_type": "code",
   "execution_count": 6,
   "metadata": {},
   "outputs": [
    {
     "ename": "LoadError",
     "evalue": "\u001b[91mUndefVarError: tchain not defined\u001b[39m",
     "output_type": "error",
     "traceback": [
      "\u001b[91mUndefVarError: tchain not defined\u001b[39m",
      "",
      "Stacktrace:",
      " [1] top-level scope at In[6]:1",
      " [2] include_string(::Function, ::Module, ::String, ::String) at ./loading.jl:1091"
     ]
    }
   ],
   "source": [
    "ids = findall(map(name -> occursin(\"μ\", name), names(tchain)));\n",
    "p=plot(tchain[:, ids, :], legend=true, labels = [\"Mu 1\" \"Mu 2\"], colordim=:parameter)"
   ]
  },
  {
   "cell_type": "markdown",
   "metadata": {},
   "source": [
    "You'll note here that it appears the location means are switching between chains. We will address this in future tutorials. For those who are keenly interested, see [this](https://mc-stan.org/users/documentation/case-studies/identifying_mixture_models.html) article on potential solutions.\n",
    "\n",
    "For the moment, we will just use the first chain to ensure the validity of our inference."
   ]
  },
  {
   "cell_type": "code",
   "execution_count": 7,
   "metadata": {},
   "outputs": [
    {
     "ename": "LoadError",
     "evalue": "\u001b[91mUndefVarError: tchain not defined\u001b[39m",
     "output_type": "error",
     "traceback": [
      "\u001b[91mUndefVarError: tchain not defined\u001b[39m",
      "",
      "Stacktrace:",
      " [1] top-level scope at In[7]:1",
      " [2] include_string(::Function, ::Module, ::String, ::String) at ./loading.jl:1091"
     ]
    }
   ],
   "source": [
    "tchain = tchain[:, :, 1];"
   ]
  },
  {
   "cell_type": "markdown",
   "metadata": {},
   "source": [
    "As the samples for the location parameter for both clusters are unimodal, we can safely visualize the density region of our model using the average location."
   ]
  },
  {
   "cell_type": "code",
   "execution_count": 8,
   "metadata": {},
   "outputs": [
    {
     "data": {
      "text/plain": [
       "predict (generic function with 1 method)"
      ]
     },
     "execution_count": 8,
     "metadata": {},
     "output_type": "execute_result"
    }
   ],
   "source": [
    "# Helper function used for visualizing the density region.\n",
    "function predict(x, y, w, μ)\n",
    "    # Use log-sum-exp trick for numeric stability.\n",
    "    return Turing.logaddexp(\n",
    "        log(w[1]) + logpdf(MvNormal([μ[1], μ[1]], 1.), [x, y]), \n",
    "        log(w[2]) + logpdf(MvNormal([μ[2], μ[2]], 1.), [x, y])\n",
    "    )\n",
    "end"
   ]
  },
  {
   "cell_type": "code",
   "execution_count": 9,
   "metadata": {},
   "outputs": [
    {
     "ename": "LoadError",
     "evalue": "\u001b[91mUndefVarError: tchain not defined\u001b[39m",
     "output_type": "error",
     "traceback": [
      "\u001b[91mUndefVarError: tchain not defined\u001b[39m",
      "",
      "Stacktrace:",
      " [1] (::var\"#9#10\")(::Int64, ::Int64) at ./In[9]:2",
      " [2] Surface(::var\"#9#10\", ::UnitRange{Int64}, ::UnitRange{Int64}) at /Users/dtolpin/.julia/packages/RecipesPipeline/VEk89/src/utils.jl:77",
      " [3] macro expansion at /Users/dtolpin/.julia/packages/RecipesPipeline/VEk89/src/user_recipe.jl:278 [inlined]",
      " [4] apply_recipe(::AbstractDict{Symbol,Any}, ::AbstractArray{T,1} where T, ::AbstractArray{T,1} where T, ::Function) at /Users/dtolpin/.julia/packages/RecipesBase/92zOw/src/RecipesBase.jl:282",
      " [5] _process_userrecipes!(::Any, ::Any, ::Any) at /Users/dtolpin/.julia/packages/RecipesPipeline/VEk89/src/user_recipe.jl:36",
      " [6] recipe_pipeline!(::Any, ::Any, ::Any) at /Users/dtolpin/.julia/packages/RecipesPipeline/VEk89/src/RecipesPipeline.jl:70",
      " [7] _plot!(::Plots.Plot, ::Any, ::Any) at /Users/dtolpin/.julia/packages/Plots/SjqWU/src/plot.jl:172",
      " [8] plot(::Any, ::Vararg{Any,N} where N; kw::Any) at /Users/dtolpin/.julia/packages/Plots/SjqWU/src/plot.jl:58",
      " [9] contour(::Any, ::Vararg{Any,N} where N; kw::Any) at /Users/dtolpin/.julia/packages/RecipesBase/92zOw/src/RecipesBase.jl:403",
      " [10] contour(::Any, ::Vararg{Any,N} where N) at /Users/dtolpin/.julia/packages/RecipesBase/92zOw/src/RecipesBase.jl:403",
      " [11] top-level scope at In[9]:1",
      " [12] include_string(::Function, ::Module, ::String, ::String) at ./loading.jl:1091"
     ]
    }
   ],
   "source": [
    "contour(range(-5, stop = 3), range(-6, stop = 2), \n",
    "    (x, y) -> predict(x, y, [0.5, 0.5], [mean(tchain[:μ1].value), mean(tchain[:μ2].value)])\n",
    ")\n",
    "scatter!(x[1,:], x[2,:], legend = false, title = \"Synthetic Dataset\")"
   ]
  },
  {
   "cell_type": "markdown",
   "metadata": {},
   "source": [
    "## Infered Assignments"
   ]
  },
  {
   "cell_type": "markdown",
   "metadata": {},
   "source": [
    "Finally, we can inspect the assignments of the data points infered using Turing. As we can see, the dataset is partitioned into two distinct groups."
   ]
  },
  {
   "cell_type": "code",
   "execution_count": 10,
   "metadata": {},
   "outputs": [
    {
     "ename": "LoadError",
     "evalue": "\u001b[91mUndefVarError: tchain not defined\u001b[39m",
     "output_type": "error",
     "traceback": [
      "\u001b[91mUndefVarError: tchain not defined\u001b[39m",
      "",
      "Stacktrace:",
      " [1] top-level scope at In[10]:1",
      " [2] include_string(::Function, ::Module, ::String, ::String) at ./loading.jl:1091"
     ]
    }
   ],
   "source": [
    "assignments = collect(skipmissing(mean(tchain[:k].value, dims=1).data))\n",
    "scatter(x[1,:], x[2,:], \n",
    "    legend = false, \n",
    "    title = \"Assignments on Synthetic Dataset\", \n",
    "    zcolor = assignments)"
   ]
  }
 ],
 "metadata": {
  "kernelspec": {
   "display_name": "Julia 1.5.3",
   "language": "julia",
   "name": "julia-1.5"
  },
  "language_info": {
   "file_extension": ".jl",
   "mimetype": "application/julia",
   "name": "julia",
   "version": "1.5.3"
  },
  "widgets": {
   "state": {},
   "version": "1.1.2"
  }
 },
 "nbformat": 4,
 "nbformat_minor": 4
}
