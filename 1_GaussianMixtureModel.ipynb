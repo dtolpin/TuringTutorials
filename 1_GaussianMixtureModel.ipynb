{
 "cells": [
  {
   "cell_type": "markdown",
   "metadata": {},
   "source": [
    "# Unsupervised Learning using Bayesian Mixture Models"
   ]
  },
  {
   "cell_type": "markdown",
   "metadata": {},
   "source": [
    "The following tutorial illustrates the use *Turing* for clustering data using a Bayesian mixture model. The aim of this task is to infer a latent grouping (hidden structure) from unlabelled data.\n",
    "\n",
    "More specifically, we are interested in discovering the grouping illustrated in figure below. This example consists of 2-D data points, i.e. $\\boldsymbol{x} = \\{x_i\\}_{i=1}^N \\,, x_i \\in \\mathcal{R}^2$, which are distributed according to Gaussian distributions. For simplicity, we use isotropic Gaussian distributions but this assumption can easily be relaxed by introducing additional parameters. "
   ]
  },
  {
   "cell_type": "code",
   "execution_count": 1,
   "metadata": {},
   "outputs": [
    {
     "data": {
      "image/svg+xml": [
       "<?xml version=\"1.0\" encoding=\"utf-8\"?>\n",
       "<svg xmlns=\"http://www.w3.org/2000/svg\" xmlns:xlink=\"http://www.w3.org/1999/xlink\" width=\"600\" height=\"400\" viewBox=\"0 0 2400 1600\">\n",
       "<defs>\n",
       "  <clipPath id=\"clip640\">\n",
       "    <rect x=\"0\" y=\"0\" width=\"2400\" height=\"1600\"/>\n",
       "  </clipPath>\n",
       "</defs>\n",
       "<path clip-path=\"url(#clip640)\" d=\"\n",
       "M0 1600 L2400 1600 L2400 0 L0 0  Z\n",
       "  \" fill=\"#ffffff\" fill-rule=\"evenodd\" fill-opacity=\"1\"/>\n",
       "<defs>\n",
       "  <clipPath id=\"clip641\">\n",
       "    <rect x=\"480\" y=\"0\" width=\"1681\" height=\"1600\"/>\n",
       "  </clipPath>\n",
       "</defs>\n",
       "<path clip-path=\"url(#clip640)\" d=\"\n",
       "M149.191 1486.45 L2352.76 1486.45 L2352.76 123.472 L149.191 123.472  Z\n",
       "  \" fill=\"#ffffff\" fill-rule=\"evenodd\" fill-opacity=\"1\"/>\n",
       "<defs>\n",
       "  <clipPath id=\"clip642\">\n",
       "    <rect x=\"149\" y=\"123\" width=\"2205\" height=\"1364\"/>\n",
       "  </clipPath>\n",
       "</defs>\n",
       "<polyline clip-path=\"url(#clip642)\" style=\"stroke:#000000; stroke-width:2; stroke-opacity:0.1; fill:none\" points=\"\n",
       "  510.448,1486.45 510.448,123.472 \n",
       "  \"/>\n",
       "<polyline clip-path=\"url(#clip642)\" style=\"stroke:#000000; stroke-width:2; stroke-opacity:0.1; fill:none\" points=\"\n",
       "  1092.05,1486.45 1092.05,123.472 \n",
       "  \"/>\n",
       "<polyline clip-path=\"url(#clip642)\" style=\"stroke:#000000; stroke-width:2; stroke-opacity:0.1; fill:none\" points=\"\n",
       "  1673.65,1486.45 1673.65,123.472 \n",
       "  \"/>\n",
       "<polyline clip-path=\"url(#clip642)\" style=\"stroke:#000000; stroke-width:2; stroke-opacity:0.1; fill:none\" points=\"\n",
       "  2255.25,1486.45 2255.25,123.472 \n",
       "  \"/>\n",
       "<polyline clip-path=\"url(#clip640)\" style=\"stroke:#000000; stroke-width:4; stroke-opacity:1; fill:none\" points=\"\n",
       "  149.191,1486.45 2352.76,1486.45 \n",
       "  \"/>\n",
       "<polyline clip-path=\"url(#clip640)\" style=\"stroke:#000000; stroke-width:4; stroke-opacity:1; fill:none\" points=\"\n",
       "  510.448,1486.45 510.448,1470.09 \n",
       "  \"/>\n",
       "<polyline clip-path=\"url(#clip640)\" style=\"stroke:#000000; stroke-width:4; stroke-opacity:1; fill:none\" points=\"\n",
       "  1092.05,1486.45 1092.05,1470.09 \n",
       "  \"/>\n",
       "<polyline clip-path=\"url(#clip640)\" style=\"stroke:#000000; stroke-width:4; stroke-opacity:1; fill:none\" points=\"\n",
       "  1673.65,1486.45 1673.65,1470.09 \n",
       "  \"/>\n",
       "<polyline clip-path=\"url(#clip640)\" style=\"stroke:#000000; stroke-width:4; stroke-opacity:1; fill:none\" points=\"\n",
       "  2255.25,1486.45 2255.25,1470.09 \n",
       "  \"/>\n",
       "<path clip-path=\"url(#clip640)\" d=\"M 0 0 M479.349 1530.29 L509.024 1530.29 L509.024 1534.23 L479.349 1534.23 L479.349 1530.29 Z\" fill=\"#000000\" fill-rule=\"evenodd\" fill-opacity=\"1\" /><path clip-path=\"url(#clip640)\" d=\"M 0 0 M531.964 1516.63 L520.158 1535.08 L531.964 1535.08 L531.964 1516.63 M530.737 1512.56 L536.617 1512.56 L536.617 1535.08 L541.547 1535.08 L541.547 1538.97 L536.617 1538.97 L536.617 1547.12 L531.964 1547.12 L531.964 1538.97 L516.362 1538.97 L516.362 1534.46 L530.737 1512.56 Z\" fill=\"#000000\" fill-rule=\"evenodd\" fill-opacity=\"1\" /><path clip-path=\"url(#clip640)\" d=\"M 0 0 M1061.99 1530.29 L1091.67 1530.29 L1091.67 1534.23 L1061.99 1534.23 L1061.99 1530.29 Z\" fill=\"#000000\" fill-rule=\"evenodd\" fill-opacity=\"1\" /><path clip-path=\"url(#clip640)\" d=\"M 0 0 M1105.79 1543.18 L1122.11 1543.18 L1122.11 1547.12 L1100.16 1547.12 L1100.16 1543.18 Q1102.82 1540.43 1107.41 1535.8 Q1112.01 1531.15 1113.19 1529.81 Q1115.44 1527.28 1116.32 1525.55 Q1117.22 1523.79 1117.22 1522.1 Q1117.22 1519.34 1115.28 1517.61 Q1113.36 1515.87 1110.25 1515.87 Q1108.05 1515.87 1105.6 1516.63 Q1103.17 1517.4 1100.39 1518.95 L1100.39 1514.23 Q1103.22 1513.09 1105.67 1512.51 Q1108.12 1511.93 1110.16 1511.93 Q1115.53 1511.93 1118.73 1514.62 Q1121.92 1517.31 1121.92 1521.8 Q1121.92 1523.93 1121.11 1525.85 Q1120.32 1527.74 1118.22 1530.34 Q1117.64 1531.01 1114.54 1534.23 Q1111.43 1537.42 1105.79 1543.18 Z\" fill=\"#000000\" fill-rule=\"evenodd\" fill-opacity=\"1\" /><path clip-path=\"url(#clip640)\" d=\"M 0 0 M1673.65 1515.64 Q1670.04 1515.64 1668.21 1519.2 Q1666.4 1522.75 1666.4 1529.87 Q1666.4 1536.98 1668.21 1540.55 Q1670.04 1544.09 1673.65 1544.09 Q1677.28 1544.09 1679.09 1540.55 Q1680.92 1536.98 1680.92 1529.87 Q1680.92 1522.75 1679.09 1519.2 Q1677.28 1515.64 1673.65 1515.64 M1673.65 1511.93 Q1679.46 1511.93 1682.51 1516.54 Q1685.59 1521.12 1685.59 1529.87 Q1685.59 1538.6 1682.51 1543.21 Q1679.46 1547.79 1673.65 1547.79 Q1667.84 1547.79 1664.76 1543.21 Q1661.7 1538.6 1661.7 1529.87 Q1661.7 1521.12 1664.76 1516.54 Q1667.84 1511.93 1673.65 1511.93 Z\" fill=\"#000000\" fill-rule=\"evenodd\" fill-opacity=\"1\" /><path clip-path=\"url(#clip640)\" d=\"M 0 0 M2249.9 1543.18 L2266.22 1543.18 L2266.22 1547.12 L2244.28 1547.12 L2244.28 1543.18 Q2246.94 1540.43 2251.52 1535.8 Q2256.13 1531.15 2257.31 1529.81 Q2259.55 1527.28 2260.43 1525.55 Q2261.34 1523.79 2261.34 1522.1 Q2261.34 1519.34 2259.39 1517.61 Q2257.47 1515.87 2254.37 1515.87 Q2252.17 1515.87 2249.72 1516.63 Q2247.29 1517.4 2244.51 1518.95 L2244.51 1514.23 Q2247.33 1513.09 2249.79 1512.51 Q2252.24 1511.93 2254.28 1511.93 Q2259.65 1511.93 2262.84 1514.62 Q2266.04 1517.31 2266.04 1521.8 Q2266.04 1523.93 2265.23 1525.85 Q2264.44 1527.74 2262.33 1530.34 Q2261.75 1531.01 2258.65 1534.23 Q2255.55 1537.42 2249.9 1543.18 Z\" fill=\"#000000\" fill-rule=\"evenodd\" fill-opacity=\"1\" /><polyline clip-path=\"url(#clip642)\" style=\"stroke:#000000; stroke-width:2; stroke-opacity:0.1; fill:none\" points=\"\n",
       "  149.191,1444.6 2352.76,1444.6 \n",
       "  \"/>\n",
       "<polyline clip-path=\"url(#clip642)\" style=\"stroke:#000000; stroke-width:2; stroke-opacity:0.1; fill:none\" points=\"\n",
       "  149.191,1112.39 2352.76,1112.39 \n",
       "  \"/>\n",
       "<polyline clip-path=\"url(#clip642)\" style=\"stroke:#000000; stroke-width:2; stroke-opacity:0.1; fill:none\" points=\"\n",
       "  149.191,780.193 2352.76,780.193 \n",
       "  \"/>\n",
       "<polyline clip-path=\"url(#clip642)\" style=\"stroke:#000000; stroke-width:2; stroke-opacity:0.1; fill:none\" points=\"\n",
       "  149.191,447.992 2352.76,447.992 \n",
       "  \"/>\n",
       "<polyline clip-path=\"url(#clip640)\" style=\"stroke:#000000; stroke-width:4; stroke-opacity:1; fill:none\" points=\"\n",
       "  149.191,1486.45 149.191,123.472 \n",
       "  \"/>\n",
       "<polyline clip-path=\"url(#clip640)\" style=\"stroke:#000000; stroke-width:4; stroke-opacity:1; fill:none\" points=\"\n",
       "  149.191,1444.6 175.634,1444.6 \n",
       "  \"/>\n",
       "<polyline clip-path=\"url(#clip640)\" style=\"stroke:#000000; stroke-width:4; stroke-opacity:1; fill:none\" points=\"\n",
       "  149.191,1112.39 175.634,1112.39 \n",
       "  \"/>\n",
       "<polyline clip-path=\"url(#clip640)\" style=\"stroke:#000000; stroke-width:4; stroke-opacity:1; fill:none\" points=\"\n",
       "  149.191,780.193 175.634,780.193 \n",
       "  \"/>\n",
       "<polyline clip-path=\"url(#clip640)\" style=\"stroke:#000000; stroke-width:4; stroke-opacity:1; fill:none\" points=\"\n",
       "  149.191,447.992 175.634,447.992 \n",
       "  \"/>\n",
       "<path clip-path=\"url(#clip640)\" d=\"M 0 0 M51.3162 1445.05 L80.992 1445.05 L80.992 1448.98 L51.3162 1448.98 L51.3162 1445.05 Z\" fill=\"#000000\" fill-rule=\"evenodd\" fill-opacity=\"1\" /><path clip-path=\"url(#clip640)\" d=\"M 0 0 M101.663 1442.73 Q98.515 1442.73 96.6632 1444.88 Q94.8345 1447.04 94.8345 1450.79 Q94.8345 1454.51 96.6632 1456.69 Q98.515 1458.84 101.663 1458.84 Q104.811 1458.84 106.64 1456.69 Q108.492 1454.51 108.492 1450.79 Q108.492 1447.04 106.64 1444.88 Q104.811 1442.73 101.663 1442.73 M110.946 1428.08 L110.946 1432.34 Q109.186 1431.51 107.381 1431.07 Q105.598 1430.63 103.839 1430.63 Q99.2095 1430.63 96.7558 1433.75 Q94.3252 1436.88 93.978 1443.19 Q95.3437 1441.18 97.4039 1440.12 Q99.4641 1439.03 101.941 1439.03 Q107.149 1439.03 110.158 1442.2 Q113.191 1445.35 113.191 1450.79 Q113.191 1456.11 110.043 1459.33 Q106.895 1462.55 101.663 1462.55 Q95.6678 1462.55 92.4965 1457.96 Q89.3253 1453.36 89.3253 1444.63 Q89.3253 1436.44 93.2141 1431.57 Q97.103 1426.69 103.654 1426.69 Q105.413 1426.69 107.196 1427.04 Q109.001 1427.38 110.946 1428.08 Z\" fill=\"#000000\" fill-rule=\"evenodd\" fill-opacity=\"1\" /><path clip-path=\"url(#clip640)\" d=\"M 0 0 M50.9921 1112.85 L80.6679 1112.85 L80.6679 1116.78 L50.9921 1116.78 L50.9921 1112.85 Z\" fill=\"#000000\" fill-rule=\"evenodd\" fill-opacity=\"1\" /><path clip-path=\"url(#clip640)\" d=\"M 0 0 M103.608 1099.19 L91.8021 1117.64 L103.608 1117.64 L103.608 1099.19 M102.381 1095.11 L108.26 1095.11 L108.26 1117.64 L113.191 1117.64 L113.191 1121.53 L108.26 1121.53 L108.26 1129.67 L103.608 1129.67 L103.608 1121.53 L88.0058 1121.53 L88.0058 1117.01 L102.381 1095.11 Z\" fill=\"#000000\" fill-rule=\"evenodd\" fill-opacity=\"1\" /><path clip-path=\"url(#clip640)\" d=\"M 0 0 M53.0754 780.645 L82.7512 780.645 L82.7512 784.58 L53.0754 784.58 L53.0754 780.645 Z\" fill=\"#000000\" fill-rule=\"evenodd\" fill-opacity=\"1\" /><path clip-path=\"url(#clip640)\" d=\"M 0 0 M96.8715 793.538 L113.191 793.538 L113.191 797.473 L91.2465 797.473 L91.2465 793.538 Q93.9086 790.783 98.4919 786.154 Q103.098 781.501 104.279 780.158 Q106.524 777.635 107.404 775.899 Q108.307 774.14 108.307 772.45 Q108.307 769.695 106.362 767.959 Q104.441 766.223 101.339 766.223 Q99.14 766.223 96.6863 766.987 Q94.2558 767.751 91.478 769.302 L91.478 764.58 Q94.3021 763.446 96.7558 762.867 Q99.2095 762.288 101.246 762.288 Q106.617 762.288 109.811 764.973 Q113.006 767.658 113.006 772.149 Q113.006 774.279 112.196 776.2 Q111.408 778.098 109.302 780.691 Q108.723 781.362 105.621 784.58 Q102.52 787.774 96.8715 793.538 Z\" fill=\"#000000\" fill-rule=\"evenodd\" fill-opacity=\"1\" /><path clip-path=\"url(#clip640)\" d=\"M 0 0 M101.246 433.791 Q97.6354 433.791 95.8067 437.355 Q94.0012 440.897 94.0012 448.027 Q94.0012 455.133 95.8067 458.698 Q97.6354 462.24 101.246 462.24 Q104.881 462.24 106.686 458.698 Q108.515 455.133 108.515 448.027 Q108.515 440.897 106.686 437.355 Q104.881 433.791 101.246 433.791 M101.246 430.087 Q107.057 430.087 110.112 434.693 Q113.191 439.277 113.191 448.027 Q113.191 456.754 110.112 461.36 Q107.057 465.943 101.246 465.943 Q95.4363 465.943 92.3576 461.36 Q89.3021 456.754 89.3021 448.027 Q89.3021 439.277 92.3576 434.693 Q95.4363 430.087 101.246 430.087 Z\" fill=\"#000000\" fill-rule=\"evenodd\" fill-opacity=\"1\" /><path clip-path=\"url(#clip640)\" d=\"M 0 0 M922.161 14.0809 L922.161 22.0612 Q917.503 19.8332 913.371 18.7395 Q909.239 17.6457 905.391 17.6457 Q898.707 17.6457 895.061 20.2383 Q891.456 22.8309 891.456 27.611 Q891.456 31.6214 893.846 33.6873 Q896.276 35.7128 903.001 36.9686 L907.943 37.9813 Q917.098 39.7232 921.432 44.1387 Q925.807 48.5136 925.807 55.8863 Q925.807 64.6767 919.893 69.2137 Q914.019 73.7508 902.636 73.7508 Q898.342 73.7508 893.481 72.7785 Q888.661 71.8063 883.475 69.9024 L883.475 61.4765 Q888.458 64.2716 893.238 65.6895 Q898.018 67.1073 902.636 67.1073 Q909.644 67.1073 913.452 64.3527 Q917.26 61.598 917.26 56.4939 Q917.26 52.0379 914.505 49.5264 Q911.791 47.0148 905.553 45.759 L900.57 44.7868 Q891.415 42.9639 887.324 39.075 Q883.232 35.1862 883.232 28.2591 Q883.232 20.2383 888.863 15.6203 Q894.534 11.0023 904.459 11.0023 Q908.712 11.0023 913.128 11.7719 Q917.543 12.5416 922.161 14.0809 Z\" fill=\"#000000\" fill-rule=\"evenodd\" fill-opacity=\"1\" /><path clip-path=\"url(#clip640)\" d=\"M 0 0 M957.121 76.7889 Q953.961 84.8907 950.963 87.3618 Q947.966 89.8329 942.943 89.8329 L936.988 89.8329 L936.988 83.5945 L941.363 83.5945 Q944.441 83.5945 946.143 82.1361 Q947.844 80.6778 949.91 75.2496 L951.247 71.8468 L932.896 27.2059 L940.796 27.2059 L954.974 62.6918 L969.152 27.2059 L977.051 27.2059 L957.121 76.7889 Z\" fill=\"#000000\" fill-rule=\"evenodd\" fill-opacity=\"1\" /><path clip-path=\"url(#clip640)\" d=\"M 0 0 M1025.05 45.1919 L1025.05 72.576 L1017.6 72.576 L1017.6 45.4349 Q1017.6 38.994 1015.09 35.7938 Q1012.58 32.5936 1007.55 32.5936 Q1001.52 32.5936 998.035 36.4419 Q994.551 40.2903 994.551 46.9338 L994.551 72.576 L987.057 72.576 L987.057 27.2059 L994.551 27.2059 L994.551 34.2544 Q997.225 30.163 1000.83 28.1376 Q1004.48 26.1121 1009.22 26.1121 Q1017.03 26.1121 1021.04 30.9732 Q1025.05 35.7938 1025.05 45.1919 Z\" fill=\"#000000\" fill-rule=\"evenodd\" fill-opacity=\"1\" /><path clip-path=\"url(#clip640)\" d=\"M 0 0 M1047.29 14.324 L1047.29 27.2059 L1062.65 27.2059 L1062.65 32.9987 L1047.29 32.9987 L1047.29 57.6282 Q1047.29 63.1779 1048.79 64.7578 Q1050.33 66.3376 1054.99 66.3376 L1062.65 66.3376 L1062.65 72.576 L1054.99 72.576 Q1046.36 72.576 1043.08 69.3758 Q1039.8 66.1351 1039.8 57.6282 L1039.8 32.9987 L1034.33 32.9987 L1034.33 27.2059 L1039.8 27.2059 L1039.8 14.324 L1047.29 14.324 Z\" fill=\"#000000\" fill-rule=\"evenodd\" fill-opacity=\"1\" /><path clip-path=\"url(#clip640)\" d=\"M 0 0 M1110.16 45.1919 L1110.16 72.576 L1102.71 72.576 L1102.71 45.4349 Q1102.71 38.994 1100.2 35.7938 Q1097.69 32.5936 1092.66 32.5936 Q1086.63 32.5936 1083.14 36.4419 Q1079.66 40.2903 1079.66 46.9338 L1079.66 72.576 L1072.17 72.576 L1072.17 9.54393 L1079.66 9.54393 L1079.66 34.2544 Q1082.33 30.163 1085.94 28.1376 Q1089.59 26.1121 1094.32 26.1121 Q1102.14 26.1121 1106.15 30.9732 Q1110.16 35.7938 1110.16 45.1919 Z\" fill=\"#000000\" fill-rule=\"evenodd\" fill-opacity=\"1\" /><path clip-path=\"url(#clip640)\" d=\"M 0 0 M1163.84 48.0275 L1163.84 51.6733 L1129.57 51.6733 Q1130.05 59.3701 1134.19 63.421 Q1138.36 67.4314 1145.77 67.4314 Q1150.07 67.4314 1154.08 66.3781 Q1158.13 65.3249 1162.1 63.2184 L1162.1 70.267 Q1158.09 71.9684 1153.87 72.8596 Q1149.66 73.7508 1145.33 73.7508 Q1134.47 73.7508 1128.11 67.4314 Q1121.79 61.1119 1121.79 50.3365 Q1121.79 39.1965 1127.79 32.6746 Q1133.82 26.1121 1144.03 26.1121 Q1153.18 26.1121 1158.49 32.0264 Q1163.84 37.9003 1163.84 48.0275 M1156.38 45.84 Q1156.3 39.7232 1152.94 36.0774 Q1149.62 32.4315 1144.11 32.4315 Q1137.87 32.4315 1134.1 35.9558 Q1130.38 39.4801 1129.81 45.8805 L1156.38 45.84 Z\" fill=\"#000000\" fill-rule=\"evenodd\" fill-opacity=\"1\" /><path clip-path=\"url(#clip640)\" d=\"M 0 0 M1183.44 14.324 L1183.44 27.2059 L1198.8 27.2059 L1198.8 32.9987 L1183.44 32.9987 L1183.44 57.6282 Q1183.44 63.1779 1184.94 64.7578 Q1186.48 66.3376 1191.14 66.3376 L1198.8 66.3376 L1198.8 72.576 L1191.14 72.576 Q1182.51 72.576 1179.23 69.3758 Q1175.95 66.1351 1175.95 57.6282 L1175.95 32.9987 L1170.48 32.9987 L1170.48 27.2059 L1175.95 27.2059 L1175.95 14.324 L1183.44 14.324 Z\" fill=\"#000000\" fill-rule=\"evenodd\" fill-opacity=\"1\" /><path clip-path=\"url(#clip640)\" d=\"M 0 0 M1208.6 27.2059 L1216.05 27.2059 L1216.05 72.576 L1208.6 72.576 L1208.6 27.2059 M1208.6 9.54393 L1216.05 9.54393 L1216.05 18.9825 L1208.6 18.9825 L1208.6 9.54393 Z\" fill=\"#000000\" fill-rule=\"evenodd\" fill-opacity=\"1\" /><path clip-path=\"url(#clip640)\" d=\"M 0 0 M1264.3 28.9478 L1264.3 35.9153 Q1261.14 34.1734 1257.94 33.3227 Q1254.78 32.4315 1251.54 32.4315 Q1244.29 32.4315 1240.28 37.0496 Q1236.27 41.6271 1236.27 49.9314 Q1236.27 58.2358 1240.28 62.8538 Q1244.29 67.4314 1251.54 67.4314 Q1254.78 67.4314 1257.94 66.5807 Q1261.14 65.6895 1264.3 63.9476 L1264.3 70.8341 Q1261.18 72.2924 1257.82 73.0216 Q1254.5 73.7508 1250.73 73.7508 Q1240.48 73.7508 1234.45 67.3098 Q1228.41 60.8689 1228.41 49.9314 Q1228.41 38.832 1234.49 32.472 Q1240.6 26.1121 1251.22 26.1121 Q1254.66 26.1121 1257.94 26.8413 Q1261.22 27.5299 1264.3 28.9478 Z\" fill=\"#000000\" fill-rule=\"evenodd\" fill-opacity=\"1\" /><path clip-path=\"url(#clip640)\" d=\"M 0 0 M1312.14 18.8205 L1312.14 65.8515 L1322.03 65.8515 Q1334.54 65.8515 1340.34 60.1802 Q1346.17 54.509 1346.17 42.2752 Q1346.17 30.1225 1340.34 24.4918 Q1334.54 18.8205 1322.03 18.8205 L1312.14 18.8205 M1303.96 12.096 L1320.77 12.096 Q1338.35 12.096 1346.57 19.4281 Q1354.8 26.7198 1354.8 42.2752 Q1354.8 57.9117 1346.53 65.2439 Q1338.27 72.576 1320.77 72.576 L1303.96 72.576 L1303.96 12.096 Z\" fill=\"#000000\" fill-rule=\"evenodd\" fill-opacity=\"1\" /><path clip-path=\"url(#clip640)\" d=\"M 0 0 M1388.14 49.7694 Q1379.1 49.7694 1375.62 51.8354 Q1372.14 53.9013 1372.14 58.8839 Q1372.14 62.8538 1374.73 65.2034 Q1377.36 67.5124 1381.86 67.5124 Q1388.06 67.5124 1391.78 63.1374 Q1395.55 58.7219 1395.55 51.4303 L1395.55 49.7694 L1388.14 49.7694 M1403 46.6907 L1403 72.576 L1395.55 72.576 L1395.55 65.6895 Q1393 69.8214 1389.19 71.8063 Q1385.38 73.7508 1379.87 73.7508 Q1372.91 73.7508 1368.77 69.8619 Q1364.68 65.9325 1364.68 59.3701 Q1364.68 51.7138 1369.79 47.825 Q1374.93 43.9361 1385.1 43.9361 L1395.55 43.9361 L1395.55 43.2069 Q1395.55 38.0623 1392.15 35.2672 Q1388.79 32.4315 1382.67 32.4315 Q1378.78 32.4315 1375.09 33.3632 Q1371.41 34.295 1368 36.1584 L1368 29.2718 Q1372.1 27.692 1375.94 26.9223 Q1379.79 26.1121 1383.44 26.1121 Q1393.28 26.1121 1398.14 31.2163 Q1403 36.3204 1403 46.6907 Z\" fill=\"#000000\" fill-rule=\"evenodd\" fill-opacity=\"1\" /><path clip-path=\"url(#clip640)\" d=\"M 0 0 M1425.73 14.324 L1425.73 27.2059 L1441.08 27.2059 L1441.08 32.9987 L1425.73 32.9987 L1425.73 57.6282 Q1425.73 63.1779 1427.23 64.7578 Q1428.77 66.3376 1433.43 66.3376 L1441.08 66.3376 L1441.08 72.576 L1433.43 72.576 Q1424.8 72.576 1421.52 69.3758 Q1418.24 66.1351 1418.24 57.6282 L1418.24 32.9987 L1412.77 32.9987 L1412.77 27.2059 L1418.24 27.2059 L1418.24 14.324 L1425.73 14.324 Z\" fill=\"#000000\" fill-rule=\"evenodd\" fill-opacity=\"1\" /><path clip-path=\"url(#clip640)\" d=\"M 0 0 M1471.5 49.7694 Q1462.47 49.7694 1458.99 51.8354 Q1455.5 53.9013 1455.5 58.8839 Q1455.5 62.8538 1458.1 65.2034 Q1460.73 67.5124 1465.23 67.5124 Q1471.42 67.5124 1475.15 63.1374 Q1478.92 58.7219 1478.92 51.4303 L1478.92 49.7694 L1471.5 49.7694 M1486.37 46.6907 L1486.37 72.576 L1478.92 72.576 L1478.92 65.6895 Q1476.37 69.8214 1472.56 71.8063 Q1468.75 73.7508 1463.24 73.7508 Q1456.27 73.7508 1452.14 69.8619 Q1448.05 65.9325 1448.05 59.3701 Q1448.05 51.7138 1453.15 47.825 Q1458.3 43.9361 1468.47 43.9361 L1478.92 43.9361 L1478.92 43.2069 Q1478.92 38.0623 1475.52 35.2672 Q1472.15 32.4315 1466.04 32.4315 Q1462.15 32.4315 1458.46 33.3632 Q1454.77 34.295 1451.37 36.1584 L1451.37 29.2718 Q1455.46 27.692 1459.31 26.9223 Q1463.16 26.1121 1466.81 26.1121 Q1476.65 26.1121 1481.51 31.2163 Q1486.37 36.3204 1486.37 46.6907 Z\" fill=\"#000000\" fill-rule=\"evenodd\" fill-opacity=\"1\" /><path clip-path=\"url(#clip640)\" d=\"M 0 0 M1530.65 28.5427 L1530.65 35.5912 Q1527.49 33.9709 1524.09 33.1607 Q1520.68 32.3505 1517.04 32.3505 Q1511.49 32.3505 1508.69 34.0519 Q1505.94 35.7533 1505.94 39.156 Q1505.94 41.7486 1507.92 43.2475 Q1509.91 44.7058 1515.9 46.0426 L1518.45 46.6097 Q1526.39 48.3111 1529.72 51.4303 Q1533.08 54.509 1533.08 60.0587 Q1533.08 66.3781 1528.06 70.0644 Q1523.07 73.7508 1514.32 73.7508 Q1510.68 73.7508 1506.71 73.0216 Q1502.78 72.3329 1498.4 70.9151 L1498.4 63.2184 Q1502.53 65.3654 1506.54 66.4591 Q1510.56 67.5124 1514.48 67.5124 Q1519.75 67.5124 1522.59 65.73 Q1525.42 63.9071 1525.42 60.6258 Q1525.42 57.5877 1523.36 55.9673 Q1521.33 54.3469 1514.4 52.8481 L1511.81 52.2405 Q1504.88 50.7821 1501.81 47.7845 Q1498.73 44.7463 1498.73 39.4801 Q1498.73 33.0797 1503.26 29.5959 Q1507.8 26.1121 1516.15 26.1121 Q1520.28 26.1121 1523.92 26.7198 Q1527.57 27.3274 1530.65 28.5427 Z\" fill=\"#000000\" fill-rule=\"evenodd\" fill-opacity=\"1\" /><path clip-path=\"url(#clip640)\" d=\"M 0 0 M1583.76 48.0275 L1583.76 51.6733 L1549.48 51.6733 Q1549.97 59.3701 1554.1 63.421 Q1558.27 67.4314 1565.69 67.4314 Q1569.98 67.4314 1573.99 66.3781 Q1578.04 65.3249 1582.01 63.2184 L1582.01 70.267 Q1578 71.9684 1573.79 72.8596 Q1569.58 73.7508 1565.24 73.7508 Q1554.39 73.7508 1548.03 67.4314 Q1541.71 61.1119 1541.71 50.3365 Q1541.71 39.1965 1547.7 32.6746 Q1553.74 26.1121 1563.95 26.1121 Q1573.1 26.1121 1578.41 32.0264 Q1583.76 37.9003 1583.76 48.0275 M1576.3 45.84 Q1576.22 39.7232 1572.86 36.0774 Q1569.54 32.4315 1564.03 32.4315 Q1557.79 32.4315 1554.02 35.9558 Q1550.29 39.4801 1549.73 45.8805 L1576.3 45.84 Z\" fill=\"#000000\" fill-rule=\"evenodd\" fill-opacity=\"1\" /><path clip-path=\"url(#clip640)\" d=\"M 0 0 M1603.36 14.324 L1603.36 27.2059 L1618.71 27.2059 L1618.71 32.9987 L1603.36 32.9987 L1603.36 57.6282 Q1603.36 63.1779 1604.86 64.7578 Q1606.4 66.3376 1611.06 66.3376 L1618.71 66.3376 L1618.71 72.576 L1611.06 72.576 Q1602.43 72.576 1599.15 69.3758 Q1595.87 66.1351 1595.87 57.6282 L1595.87 32.9987 L1590.4 32.9987 L1590.4 27.2059 L1595.87 27.2059 L1595.87 14.324 L1603.36 14.324 Z\" fill=\"#000000\" fill-rule=\"evenodd\" fill-opacity=\"1\" /><circle clip-path=\"url(#clip642)\" cx=\"1002.35\" cy=\"1447.87\" r=\"14\" fill=\"#009af9\" fill-rule=\"evenodd\" fill-opacity=\"1\" stroke=\"#000000\" stroke-opacity=\"1\" stroke-width=\"3.2\"/>\n",
       "<circle clip-path=\"url(#clip642)\" cx=\"1259.2\" cy=\"1191\" r=\"14\" fill=\"#009af9\" fill-rule=\"evenodd\" fill-opacity=\"1\" stroke=\"#000000\" stroke-opacity=\"1\" stroke-width=\"3.2\"/>\n",
       "<circle clip-path=\"url(#clip642)\" cx=\"626.301\" cy=\"1285.56\" r=\"14\" fill=\"#009af9\" fill-rule=\"evenodd\" fill-opacity=\"1\" stroke=\"#000000\" stroke-opacity=\"1\" stroke-width=\"3.2\"/>\n",
       "<circle clip-path=\"url(#clip642)\" cx=\"685.159\" cy=\"1029.67\" r=\"14\" fill=\"#009af9\" fill-rule=\"evenodd\" fill-opacity=\"1\" stroke=\"#000000\" stroke-opacity=\"1\" stroke-width=\"3.2\"/>\n",
       "<circle clip-path=\"url(#clip642)\" cx=\"949.204\" cy=\"889.118\" r=\"14\" fill=\"#009af9\" fill-rule=\"evenodd\" fill-opacity=\"1\" stroke=\"#000000\" stroke-opacity=\"1\" stroke-width=\"3.2\"/>\n",
       "<circle clip-path=\"url(#clip642)\" cx=\"992.616\" cy=\"1108.27\" r=\"14\" fill=\"#009af9\" fill-rule=\"evenodd\" fill-opacity=\"1\" stroke=\"#000000\" stroke-opacity=\"1\" stroke-width=\"3.2\"/>\n",
       "<circle clip-path=\"url(#clip642)\" cx=\"584.715\" cy=\"1017.41\" r=\"14\" fill=\"#009af9\" fill-rule=\"evenodd\" fill-opacity=\"1\" stroke=\"#000000\" stroke-opacity=\"1\" stroke-width=\"3.2\"/>\n",
       "<circle clip-path=\"url(#clip642)\" cx=\"506.723\" cy=\"1291.82\" r=\"14\" fill=\"#009af9\" fill-rule=\"evenodd\" fill-opacity=\"1\" stroke=\"#000000\" stroke-opacity=\"1\" stroke-width=\"3.2\"/>\n",
       "<circle clip-path=\"url(#clip642)\" cx=\"804.638\" cy=\"1146.82\" r=\"14\" fill=\"#009af9\" fill-rule=\"evenodd\" fill-opacity=\"1\" stroke=\"#000000\" stroke-opacity=\"1\" stroke-width=\"3.2\"/>\n",
       "<circle clip-path=\"url(#clip642)\" cx=\"316.747\" cy=\"1101.16\" r=\"14\" fill=\"#009af9\" fill-rule=\"evenodd\" fill-opacity=\"1\" stroke=\"#000000\" stroke-opacity=\"1\" stroke-width=\"3.2\"/>\n",
       "<circle clip-path=\"url(#clip642)\" cx=\"449.683\" cy=\"1063.96\" r=\"14\" fill=\"#009af9\" fill-rule=\"evenodd\" fill-opacity=\"1\" stroke=\"#000000\" stroke-opacity=\"1\" stroke-width=\"3.2\"/>\n",
       "<circle clip-path=\"url(#clip642)\" cx=\"438.902\" cy=\"970.499\" r=\"14\" fill=\"#009af9\" fill-rule=\"evenodd\" fill-opacity=\"1\" stroke=\"#000000\" stroke-opacity=\"1\" stroke-width=\"3.2\"/>\n",
       "<circle clip-path=\"url(#clip642)\" cx=\"562.684\" cy=\"801.119\" r=\"14\" fill=\"#009af9\" fill-rule=\"evenodd\" fill-opacity=\"1\" stroke=\"#000000\" stroke-opacity=\"1\" stroke-width=\"3.2\"/>\n",
       "<circle clip-path=\"url(#clip642)\" cx=\"755.448\" cy=\"1128.27\" r=\"14\" fill=\"#009af9\" fill-rule=\"evenodd\" fill-opacity=\"1\" stroke=\"#000000\" stroke-opacity=\"1\" stroke-width=\"3.2\"/>\n",
       "<circle clip-path=\"url(#clip642)\" cx=\"834.09\" cy=\"926.022\" r=\"14\" fill=\"#009af9\" fill-rule=\"evenodd\" fill-opacity=\"1\" stroke=\"#000000\" stroke-opacity=\"1\" stroke-width=\"3.2\"/>\n",
       "<circle clip-path=\"url(#clip642)\" cx=\"443.878\" cy=\"924.127\" r=\"14\" fill=\"#009af9\" fill-rule=\"evenodd\" fill-opacity=\"1\" stroke=\"#000000\" stroke-opacity=\"1\" stroke-width=\"3.2\"/>\n",
       "<circle clip-path=\"url(#clip642)\" cx=\"855.753\" cy=\"1051.78\" r=\"14\" fill=\"#009af9\" fill-rule=\"evenodd\" fill-opacity=\"1\" stroke=\"#000000\" stroke-opacity=\"1\" stroke-width=\"3.2\"/>\n",
       "<circle clip-path=\"url(#clip642)\" cx=\"799.161\" cy=\"1003.31\" r=\"14\" fill=\"#009af9\" fill-rule=\"evenodd\" fill-opacity=\"1\" stroke=\"#000000\" stroke-opacity=\"1\" stroke-width=\"3.2\"/>\n",
       "<circle clip-path=\"url(#clip642)\" cx=\"1016.32\" cy=\"1230.4\" r=\"14\" fill=\"#009af9\" fill-rule=\"evenodd\" fill-opacity=\"1\" stroke=\"#000000\" stroke-opacity=\"1\" stroke-width=\"3.2\"/>\n",
       "<circle clip-path=\"url(#clip642)\" cx=\"564.489\" cy=\"907.448\" r=\"14\" fill=\"#009af9\" fill-rule=\"evenodd\" fill-opacity=\"1\" stroke=\"#000000\" stroke-opacity=\"1\" stroke-width=\"3.2\"/>\n",
       "<circle clip-path=\"url(#clip642)\" cx=\"211.556\" cy=\"818.272\" r=\"14\" fill=\"#009af9\" fill-rule=\"evenodd\" fill-opacity=\"1\" stroke=\"#000000\" stroke-opacity=\"1\" stroke-width=\"3.2\"/>\n",
       "<circle clip-path=\"url(#clip642)\" cx=\"738.005\" cy=\"1131.33\" r=\"14\" fill=\"#009af9\" fill-rule=\"evenodd\" fill-opacity=\"1\" stroke=\"#000000\" stroke-opacity=\"1\" stroke-width=\"3.2\"/>\n",
       "<circle clip-path=\"url(#clip642)\" cx=\"1102.51\" cy=\"1212.45\" r=\"14\" fill=\"#009af9\" fill-rule=\"evenodd\" fill-opacity=\"1\" stroke=\"#000000\" stroke-opacity=\"1\" stroke-width=\"3.2\"/>\n",
       "<circle clip-path=\"url(#clip642)\" cx=\"446.019\" cy=\"1109.77\" r=\"14\" fill=\"#009af9\" fill-rule=\"evenodd\" fill-opacity=\"1\" stroke=\"#000000\" stroke-opacity=\"1\" stroke-width=\"3.2\"/>\n",
       "<circle clip-path=\"url(#clip642)\" cx=\"969.594\" cy=\"994.645\" r=\"14\" fill=\"#009af9\" fill-rule=\"evenodd\" fill-opacity=\"1\" stroke=\"#000000\" stroke-opacity=\"1\" stroke-width=\"3.2\"/>\n",
       "<circle clip-path=\"url(#clip642)\" cx=\"456.383\" cy=\"1072.59\" r=\"14\" fill=\"#009af9\" fill-rule=\"evenodd\" fill-opacity=\"1\" stroke=\"#000000\" stroke-opacity=\"1\" stroke-width=\"3.2\"/>\n",
       "<circle clip-path=\"url(#clip642)\" cx=\"533.178\" cy=\"1175.21\" r=\"14\" fill=\"#009af9\" fill-rule=\"evenodd\" fill-opacity=\"1\" stroke=\"#000000\" stroke-opacity=\"1\" stroke-width=\"3.2\"/>\n",
       "<circle clip-path=\"url(#clip642)\" cx=\"869.489\" cy=\"785.536\" r=\"14\" fill=\"#009af9\" fill-rule=\"evenodd\" fill-opacity=\"1\" stroke=\"#000000\" stroke-opacity=\"1\" stroke-width=\"3.2\"/>\n",
       "<circle clip-path=\"url(#clip642)\" cx=\"562.383\" cy=\"1109.52\" r=\"14\" fill=\"#009af9\" fill-rule=\"evenodd\" fill-opacity=\"1\" stroke=\"#000000\" stroke-opacity=\"1\" stroke-width=\"3.2\"/>\n",
       "<circle clip-path=\"url(#clip642)\" cx=\"498.718\" cy=\"902.415\" r=\"14\" fill=\"#009af9\" fill-rule=\"evenodd\" fill-opacity=\"1\" stroke=\"#000000\" stroke-opacity=\"1\" stroke-width=\"3.2\"/>\n",
       "<circle clip-path=\"url(#clip642)\" cx=\"1778.6\" cy=\"620.658\" r=\"14\" fill=\"#009af9\" fill-rule=\"evenodd\" fill-opacity=\"1\" stroke=\"#000000\" stroke-opacity=\"1\" stroke-width=\"3.2\"/>\n",
       "<circle clip-path=\"url(#clip642)\" cx=\"1556.95\" cy=\"245.162\" r=\"14\" fill=\"#009af9\" fill-rule=\"evenodd\" fill-opacity=\"1\" stroke=\"#000000\" stroke-opacity=\"1\" stroke-width=\"3.2\"/>\n",
       "<circle clip-path=\"url(#clip642)\" cx=\"1446.52\" cy=\"356.935\" r=\"14\" fill=\"#009af9\" fill-rule=\"evenodd\" fill-opacity=\"1\" stroke=\"#000000\" stroke-opacity=\"1\" stroke-width=\"3.2\"/>\n",
       "<circle clip-path=\"url(#clip642)\" cx=\"2091.51\" cy=\"394.055\" r=\"14\" fill=\"#009af9\" fill-rule=\"evenodd\" fill-opacity=\"1\" stroke=\"#000000\" stroke-opacity=\"1\" stroke-width=\"3.2\"/>\n",
       "<circle clip-path=\"url(#clip642)\" cx=\"1379.48\" cy=\"274.081\" r=\"14\" fill=\"#009af9\" fill-rule=\"evenodd\" fill-opacity=\"1\" stroke=\"#000000\" stroke-opacity=\"1\" stroke-width=\"3.2\"/>\n",
       "<circle clip-path=\"url(#clip642)\" cx=\"1426.65\" cy=\"353.598\" r=\"14\" fill=\"#009af9\" fill-rule=\"evenodd\" fill-opacity=\"1\" stroke=\"#000000\" stroke-opacity=\"1\" stroke-width=\"3.2\"/>\n",
       "<circle clip-path=\"url(#clip642)\" cx=\"1339.3\" cy=\"383.015\" r=\"14\" fill=\"#009af9\" fill-rule=\"evenodd\" fill-opacity=\"1\" stroke=\"#000000\" stroke-opacity=\"1\" stroke-width=\"3.2\"/>\n",
       "<circle clip-path=\"url(#clip642)\" cx=\"1384.64\" cy=\"451.696\" r=\"14\" fill=\"#009af9\" fill-rule=\"evenodd\" fill-opacity=\"1\" stroke=\"#000000\" stroke-opacity=\"1\" stroke-width=\"3.2\"/>\n",
       "<circle clip-path=\"url(#clip642)\" cx=\"1322.46\" cy=\"465.724\" r=\"14\" fill=\"#009af9\" fill-rule=\"evenodd\" fill-opacity=\"1\" stroke=\"#000000\" stroke-opacity=\"1\" stroke-width=\"3.2\"/>\n",
       "<circle clip-path=\"url(#clip642)\" cx=\"1595.56\" cy=\"488.595\" r=\"14\" fill=\"#009af9\" fill-rule=\"evenodd\" fill-opacity=\"1\" stroke=\"#000000\" stroke-opacity=\"1\" stroke-width=\"3.2\"/>\n",
       "<circle clip-path=\"url(#clip642)\" cx=\"2001.48\" cy=\"231.253\" r=\"14\" fill=\"#009af9\" fill-rule=\"evenodd\" fill-opacity=\"1\" stroke=\"#000000\" stroke-opacity=\"1\" stroke-width=\"3.2\"/>\n",
       "<circle clip-path=\"url(#clip642)\" cx=\"2161.81\" cy=\"552.456\" r=\"14\" fill=\"#009af9\" fill-rule=\"evenodd\" fill-opacity=\"1\" stroke=\"#000000\" stroke-opacity=\"1\" stroke-width=\"3.2\"/>\n",
       "<circle clip-path=\"url(#clip642)\" cx=\"1615.78\" cy=\"442.094\" r=\"14\" fill=\"#009af9\" fill-rule=\"evenodd\" fill-opacity=\"1\" stroke=\"#000000\" stroke-opacity=\"1\" stroke-width=\"3.2\"/>\n",
       "<circle clip-path=\"url(#clip642)\" cx=\"1598.25\" cy=\"251.974\" r=\"14\" fill=\"#009af9\" fill-rule=\"evenodd\" fill-opacity=\"1\" stroke=\"#000000\" stroke-opacity=\"1\" stroke-width=\"3.2\"/>\n",
       "<circle clip-path=\"url(#clip642)\" cx=\"2290.39\" cy=\"320.146\" r=\"14\" fill=\"#009af9\" fill-rule=\"evenodd\" fill-opacity=\"1\" stroke=\"#000000\" stroke-opacity=\"1\" stroke-width=\"3.2\"/>\n",
       "<circle clip-path=\"url(#clip642)\" cx=\"1858.32\" cy=\"167.096\" r=\"14\" fill=\"#009af9\" fill-rule=\"evenodd\" fill-opacity=\"1\" stroke=\"#000000\" stroke-opacity=\"1\" stroke-width=\"3.2\"/>\n",
       "<circle clip-path=\"url(#clip642)\" cx=\"1754.9\" cy=\"674.602\" r=\"14\" fill=\"#009af9\" fill-rule=\"evenodd\" fill-opacity=\"1\" stroke=\"#000000\" stroke-opacity=\"1\" stroke-width=\"3.2\"/>\n",
       "<circle clip-path=\"url(#clip642)\" cx=\"1993.23\" cy=\"340.419\" r=\"14\" fill=\"#009af9\" fill-rule=\"evenodd\" fill-opacity=\"1\" stroke=\"#000000\" stroke-opacity=\"1\" stroke-width=\"3.2\"/>\n",
       "<circle clip-path=\"url(#clip642)\" cx=\"1679.27\" cy=\"279.066\" r=\"14\" fill=\"#009af9\" fill-rule=\"evenodd\" fill-opacity=\"1\" stroke=\"#000000\" stroke-opacity=\"1\" stroke-width=\"3.2\"/>\n",
       "<circle clip-path=\"url(#clip642)\" cx=\"2168.29\" cy=\"401.229\" r=\"14\" fill=\"#009af9\" fill-rule=\"evenodd\" fill-opacity=\"1\" stroke=\"#000000\" stroke-opacity=\"1\" stroke-width=\"3.2\"/>\n",
       "<circle clip-path=\"url(#clip642)\" cx=\"1348.22\" cy=\"232.475\" r=\"14\" fill=\"#009af9\" fill-rule=\"evenodd\" fill-opacity=\"1\" stroke=\"#000000\" stroke-opacity=\"1\" stroke-width=\"3.2\"/>\n",
       "<circle clip-path=\"url(#clip642)\" cx=\"1811.39\" cy=\"162.047\" r=\"14\" fill=\"#009af9\" fill-rule=\"evenodd\" fill-opacity=\"1\" stroke=\"#000000\" stroke-opacity=\"1\" stroke-width=\"3.2\"/>\n",
       "<circle clip-path=\"url(#clip642)\" cx=\"2201.28\" cy=\"552.345\" r=\"14\" fill=\"#009af9\" fill-rule=\"evenodd\" fill-opacity=\"1\" stroke=\"#000000\" stroke-opacity=\"1\" stroke-width=\"3.2\"/>\n",
       "<circle clip-path=\"url(#clip642)\" cx=\"1689.37\" cy=\"570.755\" r=\"14\" fill=\"#009af9\" fill-rule=\"evenodd\" fill-opacity=\"1\" stroke=\"#000000\" stroke-opacity=\"1\" stroke-width=\"3.2\"/>\n",
       "<circle clip-path=\"url(#clip642)\" cx=\"1540.04\" cy=\"677.568\" r=\"14\" fill=\"#009af9\" fill-rule=\"evenodd\" fill-opacity=\"1\" stroke=\"#000000\" stroke-opacity=\"1\" stroke-width=\"3.2\"/>\n",
       "<circle clip-path=\"url(#clip642)\" cx=\"1609.18\" cy=\"216.688\" r=\"14\" fill=\"#009af9\" fill-rule=\"evenodd\" fill-opacity=\"1\" stroke=\"#000000\" stroke-opacity=\"1\" stroke-width=\"3.2\"/>\n",
       "<circle clip-path=\"url(#clip642)\" cx=\"1903.23\" cy=\"450.56\" r=\"14\" fill=\"#009af9\" fill-rule=\"evenodd\" fill-opacity=\"1\" stroke=\"#000000\" stroke-opacity=\"1\" stroke-width=\"3.2\"/>\n",
       "<circle clip-path=\"url(#clip642)\" cx=\"1760.09\" cy=\"381.612\" r=\"14\" fill=\"#009af9\" fill-rule=\"evenodd\" fill-opacity=\"1\" stroke=\"#000000\" stroke-opacity=\"1\" stroke-width=\"3.2\"/>\n",
       "<circle clip-path=\"url(#clip642)\" cx=\"1434.64\" cy=\"534.427\" r=\"14\" fill=\"#009af9\" fill-rule=\"evenodd\" fill-opacity=\"1\" stroke=\"#000000\" stroke-opacity=\"1\" stroke-width=\"3.2\"/>\n",
       "<circle clip-path=\"url(#clip642)\" cx=\"1434.84\" cy=\"532.482\" r=\"14\" fill=\"#009af9\" fill-rule=\"evenodd\" fill-opacity=\"1\" stroke=\"#000000\" stroke-opacity=\"1\" stroke-width=\"3.2\"/>\n",
       "</svg>\n"
      ]
     },
     "execution_count": 1,
     "metadata": {},
     "output_type": "execute_result"
    }
   ],
   "source": [
    "using Distributions, StatsPlots, Random\n",
    "\n",
    "# Set a random seed.\n",
    "Random.seed!(3)\n",
    "\n",
    "# Construct 30 data points for each cluster.\n",
    "N = 30\n",
    "\n",
    "# Parameters for each cluster, we assume that each cluster is Gaussian distributed in the example.\n",
    "μs = [-3.5, 0.0]\n",
    "\n",
    "# Construct the data points.\n",
    "x = mapreduce(c -> rand(MvNormal([μs[c], μs[c]], 1.), N), hcat, 1:2)\n",
    "\n",
    "# Visualization.\n",
    "scatter(x[1,:], x[2,:], legend = false, title = \"Synthetic Dataset\")"
   ]
  },
  {
   "cell_type": "markdown",
   "metadata": {},
   "source": [
    "## Gaussian Mixture Model in Turing"
   ]
  },
  {
   "cell_type": "markdown",
   "metadata": {},
   "source": [
    "To cluster the data points shown above, we use a model that consists of two mixture components (clusters) and assigns each datum to one of the components. The assignment thereof determines the distribution that the data point is generated from.\n",
    "\n",
    "In particular, in a Bayesian Gaussian mixture model with $1 \\leq k \\leq K$ components for 1-D data each data point $x_i$ with $1 \\leq i \\leq N$ is generated according to the following generative process.\n",
    "First we draw the parameters for each cluster, i.e. in our example we draw location of the distributions from a Normal:\n",
    "$$\n",
    "\\mu_k \\sim Normal() \\, , \\;  \\forall k \\\\\n",
    "$$\n",
    "and then draw mixing weight for the $K$ clusters from a Dirichlet distribution, i.e.\n",
    "$$\n",
    "    w \\sim Dirichlet(K, \\alpha) \\, . \\\\\n",
    "$$\n",
    "After having constructed all the necessary model parameters, we can generate an observation by first selecting one of the clusters and then drawing the datum accordingly, i.e.\n",
    "$$\n",
    "    z_i \\sim Categorical(w) \\, , \\;  \\forall i \\\\\n",
    "    x_i \\sim Normal(\\mu_{z_i}, 1.) \\, , \\;  \\forall i\n",
    "$$\n",
    "\n",
    "For more details on Gaussian mixture models, we refer to Christopher M. Bishop, *Pattern Recognition and Machine Learning*, Section 9."
   ]
  },
  {
   "cell_type": "code",
   "execution_count": 2,
   "metadata": {},
   "outputs": [
    {
     "name": "stderr",
     "output_type": "stream",
     "text": [
      "┌ Info: [Turing]: progress logging is disabled globally\n",
      "└ @ Turing /home/dvd/.julia/packages/Turing/Gntg0/src/Turing.jl:30\n",
      "┌ Info: [AdvancedVI]: global PROGRESS is set as false\n",
      "└ @ AdvancedVI /home/dvd/.julia/packages/AdvancedVI/J4yH6/src/AdvancedVI.jl:15\n"
     ]
    },
    {
     "data": {
      "text/plain": [
       "false"
      ]
     },
     "execution_count": 2,
     "metadata": {},
     "output_type": "execute_result"
    }
   ],
   "source": [
    "using Turing, MCMCChains\n",
    "\n",
    "# Turn off the progress monitor.\n",
    "Turing.setprogress!(false)"
   ]
  },
  {
   "cell_type": "code",
   "execution_count": 3,
   "metadata": {},
   "outputs": [
    {
     "data": {
      "text/plain": [
       "GaussianMixtureModel (generic function with 1 method)"
      ]
     },
     "execution_count": 3,
     "metadata": {},
     "output_type": "execute_result"
    }
   ],
   "source": [
    "@model GaussianMixtureModel(x) = begin\n",
    "    \n",
    "    D, N = size(x)\n",
    "\n",
    "    # Draw the parameters for cluster 1.\n",
    "    μ1 ~ Normal()\n",
    "    \n",
    "    # Draw the parameters for cluster 2.\n",
    "    μ2 ~ Normal()\n",
    "    \n",
    "    μ = [μ1, μ2]\n",
    "    \n",
    "    # Uncomment the following lines to draw the weights for the K clusters \n",
    "    # from a Dirichlet distribution.\n",
    "    \n",
    "    # α = 1.0\n",
    "    # w ~ Dirichlet(2, α)\n",
    "    \n",
    "    # Comment out this line if you instead want to draw the weights.\n",
    "    w = [0.5, 0.5]\n",
    "    \n",
    "    # Draw assignments for each datum and generate it from a multivariate normal.\n",
    "    k = Vector{Int}(undef, N)\n",
    "    for i in 1:N\n",
    "        k[i] ~ Categorical(w)\n",
    "        x[:,i] ~ MvNormal([μ[k[i]], μ[k[i]]], 1.)\n",
    "    end\n",
    "    return k\n",
    "end"
   ]
  },
  {
   "cell_type": "markdown",
   "metadata": {},
   "source": [
    "After having specified the model in Turing, we can construct the model function and run a MCMC simulation to obtain assignments of the data points."
   ]
  },
  {
   "cell_type": "code",
   "execution_count": 4,
   "metadata": {},
   "outputs": [],
   "source": [
    "gmm_model = GaussianMixtureModel(x);"
   ]
  },
  {
   "cell_type": "markdown",
   "metadata": {},
   "source": [
    "To draw observations from the posterior distribution, we use a [particle Gibbs](https://www.stats.ox.ac.uk/~doucet/andrieu_doucet_holenstein_PMCMC.pdf) sampler to draw the discrete assignment parameters as well as a Hamiltonion Monte Carlo sampler for continous parameters.\n",
    "\n",
    "Note that we use a `Gibbs` sampler to combine both samplers for Bayesian inference in our model. We are also calling `mapreduce` to generate multiple chains, particularly so we test for convergence. The `chainscat` function simply adds multiple chains together."
   ]
  },
  {
   "cell_type": "code",
   "execution_count": null,
   "metadata": {},
   "outputs": [],
   "source": [
    "gmm_sampler = Gibbs(PG(100, :k), HMC(0.05, 10, :μ1, :μ2))\n",
    "tchain = mapreduce(c -> sample(gmm_model, gmm_sampler, 100), chainscat, 1:3);"
   ]
  },
  {
   "cell_type": "markdown",
   "metadata": {},
   "source": [
    "## Visualize the Density Region of the Mixture Model"
   ]
  },
  {
   "cell_type": "markdown",
   "metadata": {},
   "source": [
    "After sucessfully doing posterior inference, we can first visualize the trace and density of the parameters of interest.\n",
    "\n",
    "In particular, in this example we consider the sample values of the location parameter for the two clusters."
   ]
  },
  {
   "cell_type": "code",
   "execution_count": 6,
   "metadata": {},
   "outputs": [
    {
     "ename": "LoadError",
     "evalue": "UndefVarError: tchain not defined",
     "output_type": "error",
     "traceback": [
      "UndefVarError: tchain not defined",
      "",
      "Stacktrace:",
      " [1] top-level scope",
      "   @ In[6]:1",
      " [2] eval",
      "   @ ./boot.jl:360 [inlined]",
      " [3] include_string(mapexpr::typeof(REPL.softscope), mod::Module, code::String, filename::String)",
      "   @ Base ./loading.jl:1094"
     ]
    }
   ],
   "source": [
    "ids = findall(map(name -> occursin(\"μ\", String(name)), names(tchain)));\n",
    "p=plot(tchain[:, ids, :], legend=true, labels = [\"Mu 1\" \"Mu 2\"], colordim=:parameter)"
   ]
  },
  {
   "cell_type": "markdown",
   "metadata": {},
   "source": [
    "You'll note here that it appears the location means are switching between chains. We will address this in future tutorials. For those who are keenly interested, see [this](https://mc-stan.org/users/documentation/case-studies/identifying_mixture_models.html) article on potential solutions.\n",
    "\n",
    "For the moment, we will just use the first chain to ensure the validity of our inference."
   ]
  },
  {
   "cell_type": "code",
   "execution_count": null,
   "metadata": {},
   "outputs": [],
   "source": [
    "tchain = tchain[:, :, 1];"
   ]
  },
  {
   "cell_type": "markdown",
   "metadata": {},
   "source": [
    "As the samples for the location parameter for both clusters are unimodal, we can safely visualize the density region of our model using the average location."
   ]
  },
  {
   "cell_type": "code",
   "execution_count": null,
   "metadata": {},
   "outputs": [],
   "source": [
    "# Helper function used for visualizing the density region.\n",
    "function predict(x, y, w, μ)\n",
    "    # Use log-sum-exp trick for numeric stability.\n",
    "    return Turing.logaddexp(\n",
    "        log(w[1]) + logpdf(MvNormal([μ[1], μ[1]], 1.), [x, y]), \n",
    "        log(w[2]) + logpdf(MvNormal([μ[2], μ[2]], 1.), [x, y])\n",
    "    )\n",
    "end"
   ]
  },
  {
   "cell_type": "code",
   "execution_count": null,
   "metadata": {},
   "outputs": [],
   "source": [
    "contour(range(-5, stop = 3), range(-6, stop = 2), \n",
    "    (x, y) -> predict(x, y, [0.5, 0.5], [mean(tchain[:μ1]), mean(tchain[:μ2])])\n",
    ")\n",
    "scatter!(x[1,:], x[2,:], legend = false, title = \"Synthetic Dataset\")"
   ]
  },
  {
   "cell_type": "markdown",
   "metadata": {},
   "source": [
    "## Infered Assignments"
   ]
  },
  {
   "cell_type": "markdown",
   "metadata": {},
   "source": [
    "Finally, we can inspect the assignments of the data points infered using Turing. As we can see, the dataset is partitioned into two distinct groups."
   ]
  },
  {
   "cell_type": "code",
   "execution_count": null,
   "metadata": {},
   "outputs": [],
   "source": [
    "assignments = mean(group(tchain, :k))[:, :mean]\n",
    "scatter(x[1,:], x[2,:], \n",
    "    legend = false, \n",
    "    title = \"Assignments on Synthetic Dataset\", \n",
    "    zcolor = assignments)"
   ]
  }
 ],
 "metadata": {
  "kernelspec": {
   "display_name": "julia 1.6.0",
   "language": "julia",
   "name": "julia-1.6"
  },
  "language_info": {
   "file_extension": ".jl",
   "mimetype": "application/julia",
   "name": "julia",
   "version": "1.6.0"
  },
  "widgets": {
   "state": {},
   "version": "1.1.2"
  }
 },
 "nbformat": 4,
 "nbformat_minor": 4
}
